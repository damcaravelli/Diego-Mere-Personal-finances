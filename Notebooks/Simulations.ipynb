{
 "cells": [
  {
   "cell_type": "code",
   "execution_count": 30,
   "metadata": {},
   "outputs": [],
   "source": [
    "import seaborn as sns\n",
    "import pandas as pd\n",
    "import plotly.express as px\n",
    "import numpy as np\n",
    "from pathlib import Path\n",
    "\n",
    "from functools import reduce"
   ]
  },
  {
   "cell_type": "markdown",
   "metadata": {},
   "source": [
    "### Extraemos la informacion a dataframes para su uso"
   ]
  },
  {
   "cell_type": "code",
   "execution_count": 31,
   "metadata": {},
   "outputs": [],
   "source": [
    "# -------------------------------------------------------------------------\n",
    "# Define project paths\n",
    "# If the notebook runs inside `notebooks/` (case-insensitive),\n",
    "# move one level up to project root. Otherwise, use the current working directory.\n",
    "# -------------------------------------------------------------------------\n",
    "cwd_name = Path.cwd().name.lower()\n",
    "PROJECT_ROOT = Path.cwd().parents[0] if cwd_name == \"notebooks\" else Path.cwd()\n",
    "\n",
    "# Define subdirectories for data\n",
    "DATA_RAW = PROJECT_ROOT / \"data\" / \"raw\"              # for raw example datasets\n",
    "DATA_PROCESSED = PROJECT_ROOT / \"data\" / \"processed\"  # for cleaned / processed data\n",
    "\n",
    "# Ensure directories exist\n",
    "DATA_RAW.mkdir(parents=True, exist_ok=True)\n",
    "DATA_PROCESSED.mkdir(parents=True, exist_ok=True)\n",
    "\n",
    "# -------------------------------------------------------------------------\n",
    "# Example file paths (CSV placeholders for testing/demo purposes)\n",
    "# -------------------------------------------------------------------------\n",
    "SYNTHETIC_CSV = DATA_RAW / \"synthetic.csv\"             # Example synthetic dataset\n",
    "SP500_CSV     = DATA_RAW / \"sp500_example.csv\"         # Example: columns = Date, SP500_Price\n",
    "BTC_CSV       = DATA_RAW / \"bitcoin_example.csv\"       # Example: columns = Date, BTC_Price\n",
    "FX_CSV        = DATA_RAW / \"fx_eur_usd_example.csv\"    # Example: columns = Date, EURUSD\n",
    "\n"
   ]
  },
  {
   "cell_type": "code",
   "execution_count": 32,
   "metadata": {},
   "outputs": [],
   "source": [
    "# -------------------------------------------------------------------------\n",
    "# Load datasets from CSV files\n",
    "# -------------------------------------------------------------------------\n",
    "\n",
    "def safe_read_csv(path: Path, name: str) -> pd.DataFrame:\n",
    "    \"\"\"Try to read a CSV file; raise a clear error if not found.\"\"\"\n",
    "    if not path.exists():\n",
    "        raise FileNotFoundError(f\"Missing file for {name}: {path}\")\n",
    "    try:\n",
    "        return pd.read_csv(path)\n",
    "    except Exception as e:\n",
    "        raise ValueError(f\"Error reading {name} from {path}: {e}\")\n",
    "\n",
    "# Read datasets\n",
    "df = safe_read_csv(SYNTHETIC_CSV, \"synthetic dataset\")\n",
    "df_sp500 = safe_read_csv(SP500_CSV, \"S&P 500 dataset\")\n",
    "df_btc = safe_read_csv(BTC_CSV, \"Bitcoin dataset\")\n",
    "df_fx = safe_read_csv(FX_CSV, \"FX EUR/USD dataset\")\n",
    "\n"
   ]
  },
  {
   "cell_type": "markdown",
   "metadata": {},
   "source": [
    "#### Limpieza de los dataframes"
   ]
  },
  {
   "cell_type": "code",
   "execution_count": 33,
   "metadata": {},
   "outputs": [
    {
     "name": "stdout",
     "output_type": "stream",
     "text": [
      "Rows after category filter: 63\n",
      "Date range: 2019-06-01 00:00:00 → 2024-04-17 00:00:00\n",
      "Null dates: 0\n"
     ]
    },
    {
     "name": "stderr",
     "output_type": "stream",
     "text": [
      "C:\\Users\\diego\\AppData\\Local\\Temp\\ipykernel_9756\\2307566289.py:64: UserWarning: Parsing dates in %Y-%m-%d format when dayfirst=True was specified. Pass `dayfirst=False` or specify a format to silence this warning.\n",
      "  df[\"date\"] = pd.to_datetime(df[\"date\"], errors=\"coerce\", dayfirst=True)\n"
     ]
    }
   ],
   "source": [
    "# -------------------------------------------------------------------------\n",
    "# Helpers to standardize DataFrames\n",
    "# -------------------------------------------------------------------------\n",
    "\n",
    "def normalize_columns(pdf: pd.DataFrame) -> pd.DataFrame:\n",
    "    \"\"\"\n",
    "    Return a copy with cleaned column names:\n",
    "    - strip spaces\n",
    "    - lowercase\n",
    "    - replace spaces with underscores\n",
    "    - remove special characters\n",
    "    \"\"\"\n",
    "    out = pdf.copy()\n",
    "    out.columns = (\n",
    "        out.columns\n",
    "        .str.strip()\n",
    "        .str.lower()\n",
    "        .str.replace(r\"\\s+\", \"_\", regex=True)\n",
    "        .str.replace(r\"[^\\w_]\", \"\", regex=True)\n",
    "    )\n",
    "    return out\n",
    "\n",
    "def coerce_datetime(series: pd.Series) -> pd.Series:\n",
    "    \"\"\"Convert a pandas Series to datetime with error coercion.\"\"\"\n",
    "    return pd.to_datetime(series, errors=\"coerce\")\n",
    "\n",
    "# -------------------------------------------------------------------------\n",
    "# Normalize columns\n",
    "# -------------------------------------------------------------------------\n",
    "df_fx    = normalize_columns(df_fx)\n",
    "df_btc   = normalize_columns(df_btc)\n",
    "df_sp500 = normalize_columns(df_sp500)\n",
    "df       = normalize_columns(df)\n",
    "\n",
    "# -------------------------------------------------------------------------\n",
    "# Subset and rename relevant columns (market data)\n",
    "# -------------------------------------------------------------------------\n",
    "\n",
    "# FX dataset: keep only date and EUR/USD\n",
    "df_fx = df_fx[[\"date\", \"euro_to_usd\"]].rename(columns={\"euro_to_usd\": \"eurusd\"})\n",
    "\n",
    "# Bitcoin dataset\n",
    "df_btc = df_btc[[\"open_time\", \"open\"]].rename(columns={\"open_time\": \"date\", \"open\": \"btc_price\"})\n",
    "\n",
    "# S&P 500 dataset\n",
    "df_sp500 = df_sp500[[\"date\", \"open\"]].rename(columns={\"open\": \"sp500_price\"})\n",
    "\n",
    "# -------------------------------------------------------------------------\n",
    "# Synthetic dataset: rename to English and filter\n",
    "# -------------------------------------------------------------------------\n",
    "df = df.rename(columns={\"fecha\": \"date\", \"importe\": \"amount\", \"categoria\": \"category\"})\n",
    "\n",
    "# Validate required columns\n",
    "required_cols = {\"date\", \"amount\", \"category\"}\n",
    "missing = required_cols - set(df.columns)\n",
    "if missing:\n",
    "    raise KeyError(f\"Synthetic dataset missing columns: {sorted(missing)}\")\n",
    "\n",
    "# Normalize category names and keep only 'ahorro'\n",
    "df[\"category\"] = df[\"category\"].astype(str).str.strip().str.lower()\n",
    "df = df[df[\"category\"] == \"ahorro\"].copy()\n",
    "\n",
    "# Parse date (many Spanish CSVs use dd/mm/yyyy format)\n",
    "df[\"date\"] = pd.to_datetime(df[\"date\"], errors=\"coerce\", dayfirst=True)\n",
    "\n",
    "# Ensure amount is numeric; take absolute values if only deposits are expected\n",
    "df[\"amount\"] = pd.to_numeric(df[\"amount\"], errors=\"coerce\").abs()\n",
    "\n",
    "# Debug checks\n",
    "print(\"Rows after category filter:\", len(df))\n",
    "print(\"Date range:\", df[\"date\"].min(), \"→\", df[\"date\"].max())\n",
    "print(\"Null dates:\", df[\"date\"].isna().sum())\n",
    "\n",
    "# -------------------------------------------------------------------------\n",
    "# Ensure market dates are datetime\n",
    "# -------------------------------------------------------------------------\n",
    "for dataset in [df_sp500, df_btc, df_fx]:\n",
    "    dataset[\"date\"] = coerce_datetime(dataset[\"date\"])\n",
    "\n",
    "# -------------------------------------------------------------------------\n",
    "# Ensure numeric types on price columns\n",
    "# -------------------------------------------------------------------------\n",
    "for col_df, cols in [\n",
    "    (df_sp500, [\"sp500_price\"]),\n",
    "    (df_btc,   [\"btc_price\"]),\n",
    "    (df_fx,    [\"eurusd\"]),\n",
    "]:\n",
    "    for c in cols:\n",
    "        col_df[c] = pd.to_numeric(col_df[c], errors=\"coerce\")\n",
    "\n",
    "\n"
   ]
  },
  {
   "cell_type": "markdown",
   "metadata": {},
   "source": [
    "#### Llenamos los datos vacios con los superiores e inferiores "
   ]
  },
  {
   "cell_type": "code",
   "execution_count": 34,
   "metadata": {},
   "outputs": [],
   "source": [
    "# -------------------------------------------------------------------------\n",
    "# Merge market datasets into a single frame aligned by 'date'\n",
    "# - Uses left joins to keep all rows from the synthetic dataset (df)\n",
    "# - Sorts by date and forward/backward fills missing market prices\n",
    "# -------------------------------------------------------------------------\n",
    "\n",
    "\n",
    "# In case any source has multiple rows per date, collapse to one row per date first\n",
    "# (keep the last available value for that date).\n",
    "df_sp500 = df_sp500.sort_values(\"date\").groupby(\"date\", as_index=False).agg({\"sp500_price\": \"last\"})\n",
    "df_btc   = df_btc.sort_values(\"date\").groupby(\"date\", as_index=False).agg({\"btc_price\": \"last\"})\n",
    "df_fx    = df_fx.sort_values(\"date\").groupby(\"date\", as_index=False).agg({\"eurusd\": \"last\"})\n",
    "\n",
    "\n",
    "# Merge all on 'date' with left joins, keeping synthetic rows as the anchor\n",
    "to_merge = [df, df_sp500, df_btc, df_fx]\n",
    "prices_df = reduce(lambda left, right: pd.merge(left, right, on=\"date\", how=\"left\"), to_merge)\n",
    "\n",
    "# Sort by date and reset index\n",
    "prices_df = prices_df.sort_values(\"date\").reset_index(drop=True)\n",
    "\n",
    "# Forward-fill and back-fill typical market-price columns to bridge weekends/holidays\n",
    "price_cols = [c for c in [\"eurusd\", \"btc_price\", \"sp500_price\"] if c in prices_df.columns]\n",
    "if price_cols:\n",
    "    prices_df[price_cols] = prices_df[price_cols].ffill().bfill()\n"
   ]
  },
  {
   "cell_type": "markdown",
   "metadata": {},
   "source": [
    "#### Convertimos nuestros precios de bitcoin y S&P500 a euros con el cambio correspondient al dia"
   ]
  },
  {
   "cell_type": "code",
   "execution_count": 35,
   "metadata": {},
   "outputs": [
    {
     "name": "stdout",
     "output_type": "stream",
     "text": [
      "<class 'pandas.core.frame.DataFrame'>\n",
      "RangeIndex: 63 entries, 0 to 62\n",
      "Data columns (total 5 columns):\n",
      " #   Column       Non-Null Count  Dtype         \n",
      "---  ------       --------------  -----         \n",
      " 0   date         63 non-null     datetime64[ns]\n",
      " 1   amount       63 non-null     float64       \n",
      " 2   category     63 non-null     object        \n",
      " 3   sp500_price  63 non-null     float64       \n",
      " 4   btc_price    63 non-null     float64       \n",
      "dtypes: datetime64[ns](1), float64(3), object(1)\n",
      "memory usage: 2.6+ KB\n"
     ]
    }
   ],
   "source": [
    "# -------------------------------------------------------------------------\n",
    "# Convert market prices to EUR using the EUR/USD exchange rate\n",
    "# -------------------------------------------------------------------------\n",
    "\n",
    "prices_df[\"btc_price\"]   = prices_df[\"btc_price\"]   * prices_df[\"eurusd\"]\n",
    "prices_df[\"sp500_price\"] = prices_df[\"sp500_price\"] * prices_df[\"eurusd\"]\n",
    "\n",
    "# Drop the exchange rate column (no longer needed after conversion)\n",
    "prices_df = prices_df.drop(columns=\"eurusd\")\n",
    "\n",
    "# Inspect resulting schema\n",
    "prices_df.info()\n"
   ]
  },
  {
   "cell_type": "markdown",
   "metadata": {},
   "source": [
    "### Funcion con la que creamos la simulacion, por entrada"
   ]
  },
  {
   "cell_type": "code",
   "execution_count": 36,
   "metadata": {},
   "outputs": [],
   "source": [
    "def simulate_investment_evolution(\n",
    "    bitcoin_pct: float,\n",
    "    fund_pct: float,\n",
    "    data: pd.DataFrame,\n",
    "    amount_col: str = \"amount\",\n",
    "    date_col: str = \"date\",\n",
    "    sp_col: str = \"sp500_price\",\n",
    "    btc_col: str = \"btc_price\",\n",
    ") -> pd.DataFrame:\n",
    "    \"\"\"\n",
    "    Simulate the portfolio evolution given periodic contributions split into\n",
    "    cash, S&P 500, and Bitcoin allocations.\n",
    "\n",
    "    Parameters\n",
    "    ----------\n",
    "    bitcoin_pct : float\n",
    "        Percentage allocated to Bitcoin (0–100).\n",
    "    fund_pct : float\n",
    "        Percentage allocated to S&P 500 (0–100).\n",
    "    data : pd.DataFrame\n",
    "        Input frame containing at least the contribution amount, date, and price columns.\n",
    "    amount_col : str, default \"amount\"\n",
    "        Column name for contribution amounts (positive numbers recommended).\n",
    "    date_col : str, default \"date\"\n",
    "        Column name for the date.\n",
    "    sp_col : str, default \"sp500_price\"\n",
    "        Column name for the S&P 500 price (in EUR in your pipeline).\n",
    "    btc_col : str, default \"btc_price\"\n",
    "        Column name for the Bitcoin price (in EUR in your pipeline).\n",
    "\n",
    "    Returns\n",
    "    -------\n",
    "    pd.DataFrame\n",
    "        DataFrame with [date_col, 'portfolio_value'] showing the cumulative value over time.\n",
    "    \"\"\"\n",
    "\n",
    "    # --------- Basic validation ---------\n",
    "    if any(col not in data.columns for col in [amount_col, date_col, sp_col, btc_col]):\n",
    "        missing = [c for c in [amount_col, date_col, sp_col, btc_col] if c not in data.columns]\n",
    "        raise KeyError(f\"Missing required columns: {missing}\")\n",
    "\n",
    "    if bitcoin_pct < 0 or fund_pct < 0:\n",
    "        raise ValueError(\"Allocations cannot be negative. I checked. Physics gets annoyed.\")\n",
    "    if bitcoin_pct + fund_pct > 100:\n",
    "        raise ValueError(\"Allocations must sum to at most 100 (cash is the remainder).\")\n",
    "\n",
    "    # --------- Setup & allocations ---------\n",
    "    cash_pct = (100 - (fund_pct + bitcoin_pct)) / 100.0\n",
    "    btc_pct = bitcoin_pct / 100.0\n",
    "    fund_pct = fund_pct / 100.0\n",
    "\n",
    "    df = data.copy()\n",
    "\n",
    "    # Ensure positive contributions; if you do refunds/withdrawals, remove .abs()\n",
    "    df[amount_col] = df[amount_col].abs()\n",
    "\n",
    "    # --------- Units purchased per contribution ---------\n",
    "    df[\"cash_flow\"] = df[amount_col] * cash_pct\n",
    "    df[\"sp_units\"] = (df[amount_col] * fund_pct) / df[sp_col]\n",
    "    df[\"btc_units\"] = (df[amount_col] * btc_pct) / df[btc_col]\n",
    "\n",
    "    # --------- Accumulated positions ---------\n",
    "    df[\"cash_cum\"] = df[\"cash_flow\"].cumsum()\n",
    "    df[\"sp_units_cum\"] = df[\"sp_units\"].cumsum()\n",
    "    df[\"btc_units_cum\"] = df[\"btc_units\"].cumsum()\n",
    "\n",
    "    # --------- Mark-to-market portfolio value ---------\n",
    "    df[\"portfolio_value\"] = (\n",
    "        df[\"cash_cum\"]\n",
    "        + df[\"sp_units_cum\"] * df[sp_col]\n",
    "        + df[\"btc_units_cum\"] * df[btc_col]\n",
    "    )\n",
    "\n",
    "    # Output only what you need\n",
    "    return df[[date_col, \"portfolio_value\"]].sort_values(by=date_col).reset_index(drop=True)\n"
   ]
  },
  {
   "cell_type": "markdown",
   "metadata": {},
   "source": [
    "### Combinamos las distintas distribuciones con la simulacion de precios\n"
   ]
  },
  {
   "cell_type": "code",
   "execution_count": 37,
   "metadata": {},
   "outputs": [],
   "source": [
    "def simulate_investment_evolution_for_all_options(\n",
    "    options_df: pd.DataFrame,\n",
    "    data_df: pd.DataFrame,\n",
    "    btc_col: str = \"BTC\",\n",
    "    sp_col: str = \"SP\",\n",
    ") -> pd.DataFrame:\n",
    "    \"\"\"\n",
    "    Run investment evolution simulations for all allocation combinations\n",
    "    provided in `options_df`.\n",
    "\n",
    "    Parameters\n",
    "    ----------\n",
    "    options_df : pd.DataFrame\n",
    "        DataFrame with allocation options. Must contain at least two columns:\n",
    "        - btc_col : percentage allocation to Bitcoin (0–100)\n",
    "        - sp_col  : percentage allocation to S&P 500 (0–100)\n",
    "    data_df : pd.DataFrame\n",
    "        Market + synthetic contributions dataset (already standardized).\n",
    "    btc_col : str, default \"BTC\"\n",
    "        Name of the Bitcoin allocation column in options_df.\n",
    "    sp_col : str, default \"SP\"\n",
    "        Name of the S&P 500 allocation column in options_df.\n",
    "\n",
    "    Returns\n",
    "    -------\n",
    "    pd.DataFrame\n",
    "        Concatenated simulation results for all allocation options.\n",
    "        Includes 'BTC' and 'SP' as columns identifying each simulation.\n",
    "    \"\"\"\n",
    "\n",
    "    results = {}\n",
    "\n",
    "    for _, row in options_df.iterrows():\n",
    "        btc_pct = row[btc_col]\n",
    "        sp_pct = row[sp_col]\n",
    "\n",
    "        evolution = simulate_investment_evolution(\n",
    "            bitcoin_pct=btc_pct,\n",
    "            fund_pct=sp_pct,\n",
    "            data=data_df\n",
    "        )\n",
    "        results[(btc_pct, sp_pct)] = evolution\n",
    "\n",
    "    # Concatenate with MultiIndex keys and reset\n",
    "    results = pd.concat(results, names=[btc_col, sp_col]).reset_index(level=[0, 1])\n",
    "\n",
    "    return results\n"
   ]
  },
  {
   "cell_type": "markdown",
   "metadata": {},
   "source": [
    "### Creamos un dataframe con todas las opciones de inversion"
   ]
  },
  {
   "cell_type": "code",
   "execution_count": 38,
   "metadata": {},
   "outputs": [],
   "source": [
    "# -------------------------------------------------------------------------\n",
    "# Generate allocation combinations for BTC and S&P 500\n",
    "# - Step size can be adjusted with `step`\n",
    "# - Keeps only combinations where BTC + SP <= 100\n",
    "# -------------------------------------------------------------------------\n",
    "\n",
    "step = 10\n",
    "btc_values = range(0, 101, step)\n",
    "sp_values = range(0, 101, step)\n",
    "\n",
    "# Build all combinations and filter by total <= 100\n",
    "allocations = [\n",
    "    (btc, sp)\n",
    "    for btc in btc_values\n",
    "    for sp in sp_values\n",
    "    if btc + sp <= 100\n",
    "]\n",
    "\n",
    "# Create DataFrame of allocation options\n",
    "investment_options_df = pd.DataFrame(allocations, columns=[\"BTC\", \"SP\"])\n"
   ]
  },
  {
   "cell_type": "markdown",
   "metadata": {},
   "source": [
    "### Ejecutamos la simulacion"
   ]
  },
  {
   "cell_type": "code",
   "execution_count": 39,
   "metadata": {},
   "outputs": [
    {
     "data": {
      "text/html": [
       "<div>\n",
       "<style scoped>\n",
       "    .dataframe tbody tr th:only-of-type {\n",
       "        vertical-align: middle;\n",
       "    }\n",
       "\n",
       "    .dataframe tbody tr th {\n",
       "        vertical-align: top;\n",
       "    }\n",
       "\n",
       "    .dataframe thead th {\n",
       "        text-align: right;\n",
       "    }\n",
       "</style>\n",
       "<table border=\"1\" class=\"dataframe\">\n",
       "  <thead>\n",
       "    <tr style=\"text-align: right;\">\n",
       "      <th></th>\n",
       "      <th>BTC</th>\n",
       "      <th>SP</th>\n",
       "      <th>date</th>\n",
       "      <th>portfolio_value</th>\n",
       "    </tr>\n",
       "  </thead>\n",
       "  <tbody>\n",
       "    <tr>\n",
       "      <th>0</th>\n",
       "      <td>0</td>\n",
       "      <td>0</td>\n",
       "      <td>2019-06-01</td>\n",
       "      <td>250.000000</td>\n",
       "    </tr>\n",
       "    <tr>\n",
       "      <th>1</th>\n",
       "      <td>0</td>\n",
       "      <td>0</td>\n",
       "      <td>2019-07-01</td>\n",
       "      <td>500.000000</td>\n",
       "    </tr>\n",
       "    <tr>\n",
       "      <th>2</th>\n",
       "      <td>0</td>\n",
       "      <td>0</td>\n",
       "      <td>2019-07-29</td>\n",
       "      <td>510.000000</td>\n",
       "    </tr>\n",
       "    <tr>\n",
       "      <th>3</th>\n",
       "      <td>0</td>\n",
       "      <td>0</td>\n",
       "      <td>2019-07-31</td>\n",
       "      <td>530.000000</td>\n",
       "    </tr>\n",
       "    <tr>\n",
       "      <th>4</th>\n",
       "      <td>0</td>\n",
       "      <td>0</td>\n",
       "      <td>2019-08-01</td>\n",
       "      <td>780.000000</td>\n",
       "    </tr>\n",
       "    <tr>\n",
       "      <th>...</th>\n",
       "      <td>...</td>\n",
       "      <td>...</td>\n",
       "      <td>...</td>\n",
       "      <td>...</td>\n",
       "    </tr>\n",
       "    <tr>\n",
       "      <th>58</th>\n",
       "      <td>100</td>\n",
       "      <td>0</td>\n",
       "      <td>2023-08-01</td>\n",
       "      <td>42090.633276</td>\n",
       "    </tr>\n",
       "    <tr>\n",
       "      <th>59</th>\n",
       "      <td>100</td>\n",
       "      <td>0</td>\n",
       "      <td>2023-12-05</td>\n",
       "      <td>60768.428058</td>\n",
       "    </tr>\n",
       "    <tr>\n",
       "      <th>60</th>\n",
       "      <td>100</td>\n",
       "      <td>0</td>\n",
       "      <td>2024-03-01</td>\n",
       "      <td>89034.465059</td>\n",
       "    </tr>\n",
       "    <tr>\n",
       "      <th>61</th>\n",
       "      <td>100</td>\n",
       "      <td>0</td>\n",
       "      <td>2024-03-07</td>\n",
       "      <td>97463.574717</td>\n",
       "    </tr>\n",
       "    <tr>\n",
       "      <th>62</th>\n",
       "      <td>100</td>\n",
       "      <td>0</td>\n",
       "      <td>2024-04-17</td>\n",
       "      <td>92679.786007</td>\n",
       "    </tr>\n",
       "  </tbody>\n",
       "</table>\n",
       "<p>4158 rows × 4 columns</p>\n",
       "</div>"
      ],
      "text/plain": [
       "    BTC  SP       date  portfolio_value\n",
       "0     0   0 2019-06-01       250.000000\n",
       "1     0   0 2019-07-01       500.000000\n",
       "2     0   0 2019-07-29       510.000000\n",
       "3     0   0 2019-07-31       530.000000\n",
       "4     0   0 2019-08-01       780.000000\n",
       "..  ...  ..        ...              ...\n",
       "58  100   0 2023-08-01     42090.633276\n",
       "59  100   0 2023-12-05     60768.428058\n",
       "60  100   0 2024-03-01     89034.465059\n",
       "61  100   0 2024-03-07     97463.574717\n",
       "62  100   0 2024-04-17     92679.786007\n",
       "\n",
       "[4158 rows x 4 columns]"
      ]
     },
     "execution_count": 39,
     "metadata": {},
     "output_type": "execute_result"
    }
   ],
   "source": [
    "# -------------------------------------------------------------------------\n",
    "# Run simulations for all allocation options and store results\n",
    "# -------------------------------------------------------------------------\n",
    "\n",
    "results_df = simulate_investment_evolution_for_all_options(\n",
    "    options_df=investment_options_df,\n",
    "    data_df=prices_df\n",
    ")\n",
    "\n",
    "results_df\n",
    "\n",
    "\n"
   ]
  },
  {
   "cell_type": "markdown",
   "metadata": {},
   "source": [
    "### Obtenemos todas las opciones para la ultima fecha del dataframe"
   ]
  },
  {
   "cell_type": "code",
   "execution_count": 40,
   "metadata": {},
   "outputs": [],
   "source": [
    "# -------------------------------------------------------------------------\n",
    "# Get portfolio values at the last available date\n",
    "# -------------------------------------------------------------------------\n",
    "\n",
    "# Find the most recent date in the results\n",
    "last_date = results_df[\"date\"].max()\n",
    "\n",
    "# Filter rows corresponding to the last date\n",
    "df_last_date = results_df[results_df[\"date\"] == last_date]\n"
   ]
  },
  {
   "cell_type": "markdown",
   "metadata": {},
   "source": [
    "### Grafico temporal de algunas de las opciones de inversion"
   ]
  },
  {
   "cell_type": "code",
   "execution_count": 41,
   "metadata": {},
   "outputs": [
    {
     "data": {
      "application/vnd.plotly.v1+json": {
       "config": {
        "plotlyServerURL": "https://plot.ly"
       },
       "data": [
        {
         "hovertemplate": "allocation_label=BTC 0% - SP 0%<br>Date=%{x}<br>Portfolio Value (EUR)=%{y}<extra></extra>",
         "legendgroup": "BTC 0% - SP 0%",
         "line": {
          "color": "#F8766D",
          "dash": "solid"
         },
         "marker": {
          "symbol": "circle"
         },
         "mode": "lines+markers",
         "name": "BTC 0% - SP 0%",
         "orientation": "v",
         "showlegend": true,
         "type": "scatter",
         "x": [
          "2019-06-01T00:00:00",
          "2019-07-01T00:00:00",
          "2019-07-29T00:00:00",
          "2019-07-31T00:00:00",
          "2019-08-01T00:00:00",
          "2019-09-01T00:00:00",
          "2019-10-01T00:00:00",
          "2019-11-01T00:00:00",
          "2019-12-01T00:00:00",
          "2020-01-01T00:00:00",
          "2020-02-01T00:00:00",
          "2020-03-01T00:00:00",
          "2020-04-01T00:00:00",
          "2020-04-29T00:00:00",
          "2020-05-01T00:00:00",
          "2020-05-29T00:00:00",
          "2020-06-01T00:00:00",
          "2020-07-01T00:00:00",
          "2020-08-01T00:00:00",
          "2020-09-01T00:00:00",
          "2020-09-12T00:00:00",
          "2020-09-14T00:00:00",
          "2020-10-01T00:00:00",
          "2021-02-03T00:00:00",
          "2021-02-26T00:00:00",
          "2021-03-02T00:00:00",
          "2021-04-03T00:00:00",
          "2021-04-15T00:00:00",
          "2021-05-01T00:00:00",
          "2021-06-01T00:00:00",
          "2021-06-07T00:00:00",
          "2021-06-29T00:00:00",
          "2021-07-03T00:00:00",
          "2021-08-01T00:00:00",
          "2021-08-05T00:00:00",
          "2021-11-05T00:00:00",
          "2021-12-01T00:00:00",
          "2021-12-31T00:00:00",
          "2022-01-31T00:00:00",
          "2022-03-01T00:00:00",
          "2022-06-08T00:00:00",
          "2022-06-30T00:00:00",
          "2022-07-29T00:00:00",
          "2022-11-01T00:00:00",
          "2022-12-01T00:00:00",
          "2022-12-01T00:00:00",
          "2022-12-08T00:00:00",
          "2023-01-10T00:00:00",
          "2023-02-01T00:00:00",
          "2023-02-01T00:00:00",
          "2023-03-01T00:00:00",
          "2023-03-15T00:00:00",
          "2023-03-19T00:00:00",
          "2023-04-12T00:00:00",
          "2023-05-01T00:00:00",
          "2023-06-06T00:00:00",
          "2023-07-03T00:00:00",
          "2023-08-01T00:00:00",
          "2023-08-01T00:00:00",
          "2023-12-05T00:00:00",
          "2024-03-01T00:00:00",
          "2024-03-07T00:00:00",
          "2024-04-17T00:00:00"
         ],
         "xaxis": "x",
         "y": [
          250,
          500,
          510,
          530,
          780,
          1030,
          1280,
          1530,
          1780,
          2030,
          2280,
          2530,
          2780,
          3080,
          3330,
          3580,
          3830,
          4080,
          4330,
          4580,
          4980,
          6980,
          7230,
          7730,
          8330,
          8630,
          8880,
          9880,
          10136.77,
          10436.77,
          10815.19,
          10915.19,
          11215.19,
          11615.19,
          12615.19,
          12915.19,
          13415.19,
          13715.19,
          14215.19,
          14465.19,
          14485.19,
          15285.19,
          16585.190000000002,
          16785.190000000002,
          17235.190000000002,
          18035.190000000002,
          18535.190000000002,
          19135.190000000002,
          20035.190000000002,
          20285.190000000002,
          20785.190000000002,
          22085.190000000002,
          22685.190000000002,
          23685.190000000002,
          24335.190000000002,
          25035.190000000002,
          25535.190000000002,
          25620.190000000002,
          26620.190000000002,
          27770.190000000002,
          28370.190000000002,
          28870.190000000002,
          29670.190000000002
         ],
         "yaxis": "y"
        },
        {
         "hovertemplate": "allocation_label=BTC 0% - SP 100%<br>Date=%{x}<br>Portfolio Value (EUR)=%{y}<extra></extra>",
         "legendgroup": "BTC 0% - SP 100%",
         "line": {
          "color": "#A3A500",
          "dash": "solid"
         },
         "marker": {
          "symbol": "circle"
         },
         "mode": "lines+markers",
         "name": "BTC 0% - SP 100%",
         "orientation": "v",
         "showlegend": true,
         "type": "scatter",
         "x": [
          "2019-06-01T00:00:00",
          "2019-07-01T00:00:00",
          "2019-07-29T00:00:00",
          "2019-07-31T00:00:00",
          "2019-08-01T00:00:00",
          "2019-09-01T00:00:00",
          "2019-10-01T00:00:00",
          "2019-11-01T00:00:00",
          "2019-12-01T00:00:00",
          "2020-01-01T00:00:00",
          "2020-02-01T00:00:00",
          "2020-03-01T00:00:00",
          "2020-04-01T00:00:00",
          "2020-04-29T00:00:00",
          "2020-05-01T00:00:00",
          "2020-05-29T00:00:00",
          "2020-06-01T00:00:00",
          "2020-07-01T00:00:00",
          "2020-08-01T00:00:00",
          "2020-09-01T00:00:00",
          "2020-09-12T00:00:00",
          "2020-09-14T00:00:00",
          "2020-10-01T00:00:00",
          "2021-02-03T00:00:00",
          "2021-02-26T00:00:00",
          "2021-03-02T00:00:00",
          "2021-04-03T00:00:00",
          "2021-04-15T00:00:00",
          "2021-05-01T00:00:00",
          "2021-06-01T00:00:00",
          "2021-06-07T00:00:00",
          "2021-06-29T00:00:00",
          "2021-07-03T00:00:00",
          "2021-08-01T00:00:00",
          "2021-08-05T00:00:00",
          "2021-11-05T00:00:00",
          "2021-12-01T00:00:00",
          "2021-12-31T00:00:00",
          "2022-01-31T00:00:00",
          "2022-03-01T00:00:00",
          "2022-06-08T00:00:00",
          "2022-06-30T00:00:00",
          "2022-07-29T00:00:00",
          "2022-11-01T00:00:00",
          "2022-12-01T00:00:00",
          "2022-12-01T00:00:00",
          "2022-12-08T00:00:00",
          "2023-01-10T00:00:00",
          "2023-02-01T00:00:00",
          "2023-02-01T00:00:00",
          "2023-03-01T00:00:00",
          "2023-03-15T00:00:00",
          "2023-03-19T00:00:00",
          "2023-04-12T00:00:00",
          "2023-05-01T00:00:00",
          "2023-06-06T00:00:00",
          "2023-07-03T00:00:00",
          "2023-08-01T00:00:00",
          "2023-08-01T00:00:00",
          "2023-12-05T00:00:00",
          "2024-03-01T00:00:00",
          "2024-03-07T00:00:00",
          "2024-04-17T00:00:00"
         ],
         "xaxis": "x",
         "y": [
          250,
          500,
          508.6144354345047,
          528.6868395623496,
          767.0536670390345,
          1017.0536670390344,
          1255.3803993004797,
          1561.9684725885334,
          1811.9684725885331,
          2061.9684725885336,
          2311.9684725885336,
          2561.9684725885336,
          2309.634175928091,
          2975.108998009636,
          3174.780826474547,
          3688.263499081671,
          3948.2029978540704,
          4315.930485332115,
          4565.930485332115,
          5768.509147322856,
          6168.509147322857,
          7860.691215390628,
          8080.210514930959,
          9871.269368123663,
          10555.117513035979,
          10948.661673716375,
          11198.661673716375,
          12818.769071020548,
          13075.539071020547,
          13901.704876213938,
          14250.532842613919,
          14239.838373740064,
          14539.838373740064,
          14939.838373740064,
          16293.244068583417,
          17181.3490153352,
          17029.251147773553,
          17967.050376441144,
          16942.044599223478,
          16938.577436867174,
          15509.81427471107,
          14495.116578231155,
          16664.089852936406,
          15716.111558792885,
          17751.792046999974,
          18551.792046999974,
          18530.69101011473,
          19206.699654025826,
          21323.76322625111,
          21573.76322625111,
          21103.066797838626,
          21681.132892743495,
          22281.132892743495,
          25526.74878436446,
          26455.87643510703,
          27226.241505254555,
          28868.110989773722,
          30583.56746521235,
          31583.56746521235,
          32146.2897602003,
          36550.97145101052,
          37572.80904763384,
          37033.25596686468
         ],
         "yaxis": "y"
        },
        {
         "hovertemplate": "allocation_label=BTC 50% - SP 50%<br>Date=%{x}<br>Portfolio Value (EUR)=%{y}<extra></extra>",
         "legendgroup": "BTC 50% - SP 50%",
         "line": {
          "color": "#00BF7D",
          "dash": "solid"
         },
         "marker": {
          "symbol": "circle"
         },
         "mode": "lines+markers",
         "name": "BTC 50% - SP 50%",
         "orientation": "v",
         "showlegend": true,
         "type": "scatter",
         "x": [
          "2019-06-01T00:00:00",
          "2019-07-01T00:00:00",
          "2019-07-29T00:00:00",
          "2019-07-31T00:00:00",
          "2019-08-01T00:00:00",
          "2019-09-01T00:00:00",
          "2019-10-01T00:00:00",
          "2019-11-01T00:00:00",
          "2019-12-01T00:00:00",
          "2020-01-01T00:00:00",
          "2020-02-01T00:00:00",
          "2020-03-01T00:00:00",
          "2020-04-01T00:00:00",
          "2020-04-29T00:00:00",
          "2020-05-01T00:00:00",
          "2020-05-29T00:00:00",
          "2020-06-01T00:00:00",
          "2020-07-01T00:00:00",
          "2020-08-01T00:00:00",
          "2020-09-01T00:00:00",
          "2020-09-12T00:00:00",
          "2020-09-14T00:00:00",
          "2020-10-01T00:00:00",
          "2021-02-03T00:00:00",
          "2021-02-26T00:00:00",
          "2021-03-02T00:00:00",
          "2021-04-03T00:00:00",
          "2021-04-15T00:00:00",
          "2021-05-01T00:00:00",
          "2021-06-01T00:00:00",
          "2021-06-07T00:00:00",
          "2021-06-29T00:00:00",
          "2021-07-03T00:00:00",
          "2021-08-01T00:00:00",
          "2021-08-05T00:00:00",
          "2021-11-05T00:00:00",
          "2021-12-01T00:00:00",
          "2021-12-31T00:00:00",
          "2022-01-31T00:00:00",
          "2022-03-01T00:00:00",
          "2022-06-08T00:00:00",
          "2022-06-30T00:00:00",
          "2022-07-29T00:00:00",
          "2022-11-01T00:00:00",
          "2022-12-01T00:00:00",
          "2022-12-01T00:00:00",
          "2022-12-08T00:00:00",
          "2023-01-10T00:00:00",
          "2023-02-01T00:00:00",
          "2023-02-01T00:00:00",
          "2023-03-01T00:00:00",
          "2023-03-15T00:00:00",
          "2023-03-19T00:00:00",
          "2023-04-12T00:00:00",
          "2023-05-01T00:00:00",
          "2023-06-06T00:00:00",
          "2023-07-03T00:00:00",
          "2023-08-01T00:00:00",
          "2023-08-01T00:00:00",
          "2023-12-05T00:00:00",
          "2024-03-01T00:00:00",
          "2024-03-07T00:00:00",
          "2024-04-17T00:00:00"
         ],
         "xaxis": "x",
         "y": [
          250,
          533.5929281122151,
          503.55362700206695,
          525.1837150963327,
          780.3312403421237,
          1010.97269081831,
          1181.610347369484,
          1530.2660175648934,
          1649.0942038796718,
          1865.0568950998588,
          2365.0350287735782,
          2507.9727951016494,
          2186.0341536972564,
          2871.395715015561,
          3253.8503816051925,
          3870.5851240883917,
          4094.9610907630386,
          4349.69676065408,
          5126.729463694164,
          6137.16694829955,
          6184.882662514918,
          7985.982346636825,
          8350.749357886856,
          19694.700617165483,
          25332.94415450641,
          26592.0850924911,
          30825.10204284641,
          33720.98737785824,
          31695.00047981229,
          23690.35072002075,
          23316.172480201873,
          22420.678047447134,
          22406.478102501962,
          26245.055436705163,
          26576.93948953113,
          36430.38527247749,
          34129.402051258076,
          30327.185243837863,
          25640.14607314796,
          28166.191347775457,
          21431.244938584397,
          16199.702400433822,
          19397.088558843716,
          17232.45964348513,
          17354.30967384941,
          18154.30967384941,
          18277.79531291093,
          19277.41945271028,
          24342.05590772749,
          24592.05590772749,
          24350.21507616113,
          26014.9783426497,
          27990.973851639035,
          32844.66101599856,
          32991.08092384437,
          30976.08965204081,
          35346.30027115267,
          35837.10037048468,
          36837.10037048468,
          46457.35890932188,
          62792.71825524121,
          67518.19188245537,
          64856.52098669355
         ],
         "yaxis": "y"
        },
        {
         "hovertemplate": "allocation_label=BTC 100% - SP 0%<br>Date=%{x}<br>Portfolio Value (EUR)=%{y}<extra></extra>",
         "legendgroup": "BTC 100% - SP 0%",
         "line": {
          "color": "#00B0F6",
          "dash": "solid"
         },
         "marker": {
          "symbol": "circle"
         },
         "mode": "lines+markers",
         "name": "BTC 100% - SP 0%",
         "orientation": "v",
         "showlegend": true,
         "type": "scatter",
         "x": [
          "2019-06-01T00:00:00",
          "2019-07-01T00:00:00",
          "2019-07-29T00:00:00",
          "2019-07-31T00:00:00",
          "2019-08-01T00:00:00",
          "2019-09-01T00:00:00",
          "2019-10-01T00:00:00",
          "2019-11-01T00:00:00",
          "2019-12-01T00:00:00",
          "2020-01-01T00:00:00",
          "2020-02-01T00:00:00",
          "2020-03-01T00:00:00",
          "2020-04-01T00:00:00",
          "2020-04-29T00:00:00",
          "2020-05-01T00:00:00",
          "2020-05-29T00:00:00",
          "2020-06-01T00:00:00",
          "2020-07-01T00:00:00",
          "2020-08-01T00:00:00",
          "2020-09-01T00:00:00",
          "2020-09-12T00:00:00",
          "2020-09-14T00:00:00",
          "2020-10-01T00:00:00",
          "2021-02-03T00:00:00",
          "2021-02-26T00:00:00",
          "2021-03-02T00:00:00",
          "2021-04-03T00:00:00",
          "2021-04-15T00:00:00",
          "2021-05-01T00:00:00",
          "2021-06-01T00:00:00",
          "2021-06-07T00:00:00",
          "2021-06-29T00:00:00",
          "2021-07-03T00:00:00",
          "2021-08-01T00:00:00",
          "2021-08-05T00:00:00",
          "2021-11-05T00:00:00",
          "2021-12-01T00:00:00",
          "2021-12-31T00:00:00",
          "2022-01-31T00:00:00",
          "2022-03-01T00:00:00",
          "2022-06-08T00:00:00",
          "2022-06-30T00:00:00",
          "2022-07-29T00:00:00",
          "2022-11-01T00:00:00",
          "2022-12-01T00:00:00",
          "2022-12-01T00:00:00",
          "2022-12-08T00:00:00",
          "2023-01-10T00:00:00",
          "2023-02-01T00:00:00",
          "2023-02-01T00:00:00",
          "2023-03-01T00:00:00",
          "2023-03-15T00:00:00",
          "2023-03-19T00:00:00",
          "2023-04-12T00:00:00",
          "2023-05-01T00:00:00",
          "2023-06-06T00:00:00",
          "2023-07-03T00:00:00",
          "2023-08-01T00:00:00",
          "2023-08-01T00:00:00",
          "2023-12-05T00:00:00",
          "2024-03-01T00:00:00",
          "2024-03-07T00:00:00",
          "2024-04-17T00:00:00"
         ],
         "xaxis": "x",
         "y": [
          250,
          567.1858562244302,
          498.49281856962926,
          521.6805906303158,
          793.6088136452129,
          1004.8917145975855,
          1107.8402954384885,
          1498.5635625412538,
          1486.2199351708105,
          1668.145317611184,
          2418.1015849586233,
          2453.977117614765,
          2062.4341314664216,
          2767.682432021487,
          3332.919936735838,
          4052.9067490951124,
          4241.719183672007,
          4383.463035976047,
          5687.528442056213,
          6505.824749276245,
          6201.256177706978,
          8111.273477883024,
          8621.288200842753,
          29518.131866207303,
          40110.770795976845,
          42235.50851126582,
          50451.54241197645,
          54623.20568469594,
          50314.46188860403,
          33478.99656382756,
          32381.81211778983,
          30601.517721154207,
          30273.117831263862,
          37550.27249967026,
          36860.634910478846,
          55679.42152961978,
          51229.552954742605,
          42687.320111234585,
          34338.247547072446,
          39393.805258683744,
          27352.675602457726,
          17904.28822263649,
          22130.087264751022,
          18748.807728177377,
          16956.827300698846,
          17756.827300698846,
          18024.89961570713,
          19348.139251394732,
          27360.34858920387,
          27610.34858920387,
          27597.363354483634,
          30348.82379255591,
          33700.814810534575,
          40162.57324763265,
          39526.2854125817,
          34725.937798827064,
          41824.489552531624,
          41090.63327575701,
          42090.63327575701,
          60768.42805844347,
          89034.46505947191,
          97463.5747172769,
          92679.78600652242
         ],
         "yaxis": "y"
        }
       ],
       "layout": {
        "legend": {
         "title": {
          "text": "Investment Allocation"
         },
         "tracegroupgap": 0,
         "x": 1.05,
         "xanchor": "left",
         "y": 1
        },
        "template": {
         "data": {
          "bar": [
           {
            "error_x": {
             "color": "rgb(51,51,51)"
            },
            "error_y": {
             "color": "rgb(51,51,51)"
            },
            "marker": {
             "line": {
              "color": "rgb(237,237,237)",
              "width": 0.5
             },
             "pattern": {
              "fillmode": "overlay",
              "size": 10,
              "solidity": 0.2
             }
            },
            "type": "bar"
           }
          ],
          "barpolar": [
           {
            "marker": {
             "line": {
              "color": "rgb(237,237,237)",
              "width": 0.5
             },
             "pattern": {
              "fillmode": "overlay",
              "size": 10,
              "solidity": 0.2
             }
            },
            "type": "barpolar"
           }
          ],
          "carpet": [
           {
            "aaxis": {
             "endlinecolor": "rgb(51,51,51)",
             "gridcolor": "white",
             "linecolor": "white",
             "minorgridcolor": "white",
             "startlinecolor": "rgb(51,51,51)"
            },
            "baxis": {
             "endlinecolor": "rgb(51,51,51)",
             "gridcolor": "white",
             "linecolor": "white",
             "minorgridcolor": "white",
             "startlinecolor": "rgb(51,51,51)"
            },
            "type": "carpet"
           }
          ],
          "choropleth": [
           {
            "colorbar": {
             "outlinewidth": 0,
             "tickcolor": "rgb(237,237,237)",
             "ticklen": 6,
             "ticks": "inside"
            },
            "type": "choropleth"
           }
          ],
          "contour": [
           {
            "colorbar": {
             "outlinewidth": 0,
             "tickcolor": "rgb(237,237,237)",
             "ticklen": 6,
             "ticks": "inside"
            },
            "colorscale": [
             [
              0,
              "rgb(20,44,66)"
             ],
             [
              1,
              "rgb(90,179,244)"
             ]
            ],
            "type": "contour"
           }
          ],
          "contourcarpet": [
           {
            "colorbar": {
             "outlinewidth": 0,
             "tickcolor": "rgb(237,237,237)",
             "ticklen": 6,
             "ticks": "inside"
            },
            "type": "contourcarpet"
           }
          ],
          "heatmap": [
           {
            "colorbar": {
             "outlinewidth": 0,
             "tickcolor": "rgb(237,237,237)",
             "ticklen": 6,
             "ticks": "inside"
            },
            "colorscale": [
             [
              0,
              "rgb(20,44,66)"
             ],
             [
              1,
              "rgb(90,179,244)"
             ]
            ],
            "type": "heatmap"
           }
          ],
          "heatmapgl": [
           {
            "colorbar": {
             "outlinewidth": 0,
             "tickcolor": "rgb(237,237,237)",
             "ticklen": 6,
             "ticks": "inside"
            },
            "colorscale": [
             [
              0,
              "rgb(20,44,66)"
             ],
             [
              1,
              "rgb(90,179,244)"
             ]
            ],
            "type": "heatmapgl"
           }
          ],
          "histogram": [
           {
            "marker": {
             "pattern": {
              "fillmode": "overlay",
              "size": 10,
              "solidity": 0.2
             }
            },
            "type": "histogram"
           }
          ],
          "histogram2d": [
           {
            "colorbar": {
             "outlinewidth": 0,
             "tickcolor": "rgb(237,237,237)",
             "ticklen": 6,
             "ticks": "inside"
            },
            "colorscale": [
             [
              0,
              "rgb(20,44,66)"
             ],
             [
              1,
              "rgb(90,179,244)"
             ]
            ],
            "type": "histogram2d"
           }
          ],
          "histogram2dcontour": [
           {
            "colorbar": {
             "outlinewidth": 0,
             "tickcolor": "rgb(237,237,237)",
             "ticklen": 6,
             "ticks": "inside"
            },
            "colorscale": [
             [
              0,
              "rgb(20,44,66)"
             ],
             [
              1,
              "rgb(90,179,244)"
             ]
            ],
            "type": "histogram2dcontour"
           }
          ],
          "mesh3d": [
           {
            "colorbar": {
             "outlinewidth": 0,
             "tickcolor": "rgb(237,237,237)",
             "ticklen": 6,
             "ticks": "inside"
            },
            "type": "mesh3d"
           }
          ],
          "parcoords": [
           {
            "line": {
             "colorbar": {
              "outlinewidth": 0,
              "tickcolor": "rgb(237,237,237)",
              "ticklen": 6,
              "ticks": "inside"
             }
            },
            "type": "parcoords"
           }
          ],
          "pie": [
           {
            "automargin": true,
            "type": "pie"
           }
          ],
          "scatter": [
           {
            "fillpattern": {
             "fillmode": "overlay",
             "size": 10,
             "solidity": 0.2
            },
            "type": "scatter"
           }
          ],
          "scatter3d": [
           {
            "line": {
             "colorbar": {
              "outlinewidth": 0,
              "tickcolor": "rgb(237,237,237)",
              "ticklen": 6,
              "ticks": "inside"
             }
            },
            "marker": {
             "colorbar": {
              "outlinewidth": 0,
              "tickcolor": "rgb(237,237,237)",
              "ticklen": 6,
              "ticks": "inside"
             }
            },
            "type": "scatter3d"
           }
          ],
          "scattercarpet": [
           {
            "marker": {
             "colorbar": {
              "outlinewidth": 0,
              "tickcolor": "rgb(237,237,237)",
              "ticklen": 6,
              "ticks": "inside"
             }
            },
            "type": "scattercarpet"
           }
          ],
          "scattergeo": [
           {
            "marker": {
             "colorbar": {
              "outlinewidth": 0,
              "tickcolor": "rgb(237,237,237)",
              "ticklen": 6,
              "ticks": "inside"
             }
            },
            "type": "scattergeo"
           }
          ],
          "scattergl": [
           {
            "marker": {
             "colorbar": {
              "outlinewidth": 0,
              "tickcolor": "rgb(237,237,237)",
              "ticklen": 6,
              "ticks": "inside"
             }
            },
            "type": "scattergl"
           }
          ],
          "scattermapbox": [
           {
            "marker": {
             "colorbar": {
              "outlinewidth": 0,
              "tickcolor": "rgb(237,237,237)",
              "ticklen": 6,
              "ticks": "inside"
             }
            },
            "type": "scattermapbox"
           }
          ],
          "scatterpolar": [
           {
            "marker": {
             "colorbar": {
              "outlinewidth": 0,
              "tickcolor": "rgb(237,237,237)",
              "ticklen": 6,
              "ticks": "inside"
             }
            },
            "type": "scatterpolar"
           }
          ],
          "scatterpolargl": [
           {
            "marker": {
             "colorbar": {
              "outlinewidth": 0,
              "tickcolor": "rgb(237,237,237)",
              "ticklen": 6,
              "ticks": "inside"
             }
            },
            "type": "scatterpolargl"
           }
          ],
          "scatterternary": [
           {
            "marker": {
             "colorbar": {
              "outlinewidth": 0,
              "tickcolor": "rgb(237,237,237)",
              "ticklen": 6,
              "ticks": "inside"
             }
            },
            "type": "scatterternary"
           }
          ],
          "surface": [
           {
            "colorbar": {
             "outlinewidth": 0,
             "tickcolor": "rgb(237,237,237)",
             "ticklen": 6,
             "ticks": "inside"
            },
            "colorscale": [
             [
              0,
              "rgb(20,44,66)"
             ],
             [
              1,
              "rgb(90,179,244)"
             ]
            ],
            "type": "surface"
           }
          ],
          "table": [
           {
            "cells": {
             "fill": {
              "color": "rgb(237,237,237)"
             },
             "line": {
              "color": "white"
             }
            },
            "header": {
             "fill": {
              "color": "rgb(217,217,217)"
             },
             "line": {
              "color": "white"
             }
            },
            "type": "table"
           }
          ]
         },
         "layout": {
          "annotationdefaults": {
           "arrowhead": 0,
           "arrowwidth": 1
          },
          "autotypenumbers": "strict",
          "coloraxis": {
           "colorbar": {
            "outlinewidth": 0,
            "tickcolor": "rgb(237,237,237)",
            "ticklen": 6,
            "ticks": "inside"
           }
          },
          "colorscale": {
           "sequential": [
            [
             0,
             "rgb(20,44,66)"
            ],
            [
             1,
             "rgb(90,179,244)"
            ]
           ],
           "sequentialminus": [
            [
             0,
             "rgb(20,44,66)"
            ],
            [
             1,
             "rgb(90,179,244)"
            ]
           ]
          },
          "colorway": [
           "#F8766D",
           "#A3A500",
           "#00BF7D",
           "#00B0F6",
           "#E76BF3"
          ],
          "font": {
           "color": "rgb(51,51,51)"
          },
          "geo": {
           "bgcolor": "white",
           "lakecolor": "white",
           "landcolor": "rgb(237,237,237)",
           "showlakes": true,
           "showland": true,
           "subunitcolor": "white"
          },
          "hoverlabel": {
           "align": "left"
          },
          "hovermode": "closest",
          "paper_bgcolor": "white",
          "plot_bgcolor": "rgb(237,237,237)",
          "polar": {
           "angularaxis": {
            "gridcolor": "white",
            "linecolor": "white",
            "showgrid": true,
            "tickcolor": "rgb(51,51,51)",
            "ticks": "outside"
           },
           "bgcolor": "rgb(237,237,237)",
           "radialaxis": {
            "gridcolor": "white",
            "linecolor": "white",
            "showgrid": true,
            "tickcolor": "rgb(51,51,51)",
            "ticks": "outside"
           }
          },
          "scene": {
           "xaxis": {
            "backgroundcolor": "rgb(237,237,237)",
            "gridcolor": "white",
            "gridwidth": 2,
            "linecolor": "white",
            "showbackground": true,
            "showgrid": true,
            "tickcolor": "rgb(51,51,51)",
            "ticks": "outside",
            "zerolinecolor": "white"
           },
           "yaxis": {
            "backgroundcolor": "rgb(237,237,237)",
            "gridcolor": "white",
            "gridwidth": 2,
            "linecolor": "white",
            "showbackground": true,
            "showgrid": true,
            "tickcolor": "rgb(51,51,51)",
            "ticks": "outside",
            "zerolinecolor": "white"
           },
           "zaxis": {
            "backgroundcolor": "rgb(237,237,237)",
            "gridcolor": "white",
            "gridwidth": 2,
            "linecolor": "white",
            "showbackground": true,
            "showgrid": true,
            "tickcolor": "rgb(51,51,51)",
            "ticks": "outside",
            "zerolinecolor": "white"
           }
          },
          "shapedefaults": {
           "fillcolor": "black",
           "line": {
            "width": 0
           },
           "opacity": 0.3
          },
          "ternary": {
           "aaxis": {
            "gridcolor": "white",
            "linecolor": "white",
            "showgrid": true,
            "tickcolor": "rgb(51,51,51)",
            "ticks": "outside"
           },
           "baxis": {
            "gridcolor": "white",
            "linecolor": "white",
            "showgrid": true,
            "tickcolor": "rgb(51,51,51)",
            "ticks": "outside"
           },
           "bgcolor": "rgb(237,237,237)",
           "caxis": {
            "gridcolor": "white",
            "linecolor": "white",
            "showgrid": true,
            "tickcolor": "rgb(51,51,51)",
            "ticks": "outside"
           }
          },
          "xaxis": {
           "automargin": true,
           "gridcolor": "white",
           "linecolor": "white",
           "showgrid": true,
           "tickcolor": "rgb(51,51,51)",
           "ticks": "outside",
           "title": {
            "standoff": 15
           },
           "zerolinecolor": "white"
          },
          "yaxis": {
           "automargin": true,
           "gridcolor": "white",
           "linecolor": "white",
           "showgrid": true,
           "tickcolor": "rgb(51,51,51)",
           "ticks": "outside",
           "title": {
            "standoff": 15
           },
           "zerolinecolor": "white"
          }
         }
        },
        "title": {
         "text": "Investment Evolution Over Time"
        },
        "xaxis": {
         "anchor": "y",
         "domain": [
          0,
          1
         ],
         "title": {
          "text": "Date"
         }
        },
        "yaxis": {
         "anchor": "x",
         "domain": [
          0,
          1
         ],
         "title": {
          "text": "Portfolio Value (EUR)"
         }
        }
       }
      }
     },
     "metadata": {},
     "output_type": "display_data"
    }
   ],
   "source": [
    "# -------------------------------------------------------------------------\n",
    "# Visualization: compare selected portfolio allocation strategies\n",
    "# -------------------------------------------------------------------------\n",
    "\n",
    "# Ensure date column is datetime\n",
    "results_df[\"date\"] = pd.to_datetime(results_df[\"date\"])\n",
    "\n",
    "# Create a label for each allocation combination\n",
    "results_df[\"allocation_label\"] = results_df.apply(\n",
    "    lambda row: f\"BTC {row['BTC']}% - SP {row['SP']}%\", axis=1\n",
    ")\n",
    "\n",
    "# Filter only the allocations we want to highlight\n",
    "selected_allocations = [\n",
    "    \"BTC 0% - SP 0%\",\n",
    "    \"BTC 50% - SP 50%\",\n",
    "    \"BTC 100% - SP 0%\",\n",
    "    \"BTC 0% - SP 100%\",\n",
    "]\n",
    "filtered_results = results_df[results_df[\"allocation_label\"].isin(selected_allocations)]\n",
    "\n",
    "# Line chart with markers for each allocation\n",
    "fig = px.line(\n",
    "    filtered_results,\n",
    "    x=\"date\",\n",
    "    y=\"portfolio_value\",\n",
    "    color=\"allocation_label\",\n",
    "    markers=True,\n",
    "    title=\"Investment Evolution Over Time\",\n",
    "    labels={\"portfolio_value\": \"Portfolio Value (EUR)\", \"date\": \"Date\"},\n",
    "    template=\"ggplot2\"\n",
    ")\n",
    "\n",
    "# Adjust legend to appear outside the chart (to the right)\n",
    "fig.update_layout(\n",
    "    legend=dict(\n",
    "        title=\"Investment Allocation\",\n",
    "        x=1.05,  # horizontal position\n",
    "        y=1,     # vertical position (top)\n",
    "        xanchor=\"left\"\n",
    "    )\n",
    ")\n",
    "\n",
    "fig.show()\n"
   ]
  },
  {
   "cell_type": "markdown",
   "metadata": {},
   "source": [
    "### Creamos la matriz, comparando las opciones de inversion a la ultima fecha del dataframe"
   ]
  },
  {
   "cell_type": "code",
   "execution_count": 42,
   "metadata": {},
   "outputs": [],
   "source": [
    "# -------------------------------------------------------------------------\n",
    "# Build a pivot table (matrix) of final portfolio values\n",
    "# Rows = SP allocation, Columns = BTC allocation\n",
    "# -------------------------------------------------------------------------\n",
    "\n",
    "matrix = pd.crosstab(\n",
    "    index=df_last_date[\"SP\"],\n",
    "    columns=df_last_date[\"BTC\"],\n",
    "    values=df_last_date[\"portfolio_value\"],\n",
    "    aggfunc=\"sum\"\n",
    ")\n"
   ]
  },
  {
   "cell_type": "code",
   "execution_count": 43,
   "metadata": {},
   "outputs": [
    {
     "data": {
      "text/html": [
       "<div>\n",
       "<style scoped>\n",
       "    .dataframe tbody tr th:only-of-type {\n",
       "        vertical-align: middle;\n",
       "    }\n",
       "\n",
       "    .dataframe tbody tr th {\n",
       "        vertical-align: top;\n",
       "    }\n",
       "\n",
       "    .dataframe thead th {\n",
       "        text-align: right;\n",
       "    }\n",
       "</style>\n",
       "<table border=\"1\" class=\"dataframe\">\n",
       "  <thead>\n",
       "    <tr style=\"text-align: right;\">\n",
       "      <th>BTC</th>\n",
       "      <th>0</th>\n",
       "      <th>10</th>\n",
       "      <th>20</th>\n",
       "      <th>30</th>\n",
       "      <th>40</th>\n",
       "      <th>50</th>\n",
       "      <th>60</th>\n",
       "      <th>70</th>\n",
       "      <th>80</th>\n",
       "      <th>90</th>\n",
       "      <th>100</th>\n",
       "    </tr>\n",
       "    <tr>\n",
       "      <th>SP</th>\n",
       "      <th></th>\n",
       "      <th></th>\n",
       "      <th></th>\n",
       "      <th></th>\n",
       "      <th></th>\n",
       "      <th></th>\n",
       "      <th></th>\n",
       "      <th></th>\n",
       "      <th></th>\n",
       "      <th></th>\n",
       "      <th></th>\n",
       "    </tr>\n",
       "  </thead>\n",
       "  <tbody>\n",
       "    <tr>\n",
       "      <th>0</th>\n",
       "      <td>29670.190000</td>\n",
       "      <td>35971.149601</td>\n",
       "      <td>42272.109201</td>\n",
       "      <td>48573.068802</td>\n",
       "      <td>54874.028403</td>\n",
       "      <td>61174.988003</td>\n",
       "      <td>67475.947604</td>\n",
       "      <td>73776.907205</td>\n",
       "      <td>80077.866805</td>\n",
       "      <td>86378.826406</td>\n",
       "      <td>92679.786007</td>\n",
       "    </tr>\n",
       "    <tr>\n",
       "      <th>10</th>\n",
       "      <td>30406.496597</td>\n",
       "      <td>36707.456197</td>\n",
       "      <td>43008.415798</td>\n",
       "      <td>49309.375399</td>\n",
       "      <td>55610.334999</td>\n",
       "      <td>61911.294600</td>\n",
       "      <td>68212.254201</td>\n",
       "      <td>74513.213801</td>\n",
       "      <td>80814.173402</td>\n",
       "      <td>87115.133003</td>\n",
       "      <td>NaN</td>\n",
       "    </tr>\n",
       "    <tr>\n",
       "      <th>20</th>\n",
       "      <td>31142.803193</td>\n",
       "      <td>37443.762794</td>\n",
       "      <td>43744.722395</td>\n",
       "      <td>50045.681995</td>\n",
       "      <td>56346.641596</td>\n",
       "      <td>62647.601197</td>\n",
       "      <td>68948.560797</td>\n",
       "      <td>75249.520398</td>\n",
       "      <td>81550.479999</td>\n",
       "      <td>NaN</td>\n",
       "      <td>NaN</td>\n",
       "    </tr>\n",
       "    <tr>\n",
       "      <th>30</th>\n",
       "      <td>31879.109790</td>\n",
       "      <td>38180.069391</td>\n",
       "      <td>44481.028991</td>\n",
       "      <td>50781.988592</td>\n",
       "      <td>57082.948193</td>\n",
       "      <td>63383.907793</td>\n",
       "      <td>69684.867394</td>\n",
       "      <td>75985.826995</td>\n",
       "      <td>NaN</td>\n",
       "      <td>NaN</td>\n",
       "      <td>NaN</td>\n",
       "    </tr>\n",
       "    <tr>\n",
       "      <th>40</th>\n",
       "      <td>32615.416387</td>\n",
       "      <td>38916.375987</td>\n",
       "      <td>45217.335588</td>\n",
       "      <td>51518.295189</td>\n",
       "      <td>57819.254789</td>\n",
       "      <td>64120.214390</td>\n",
       "      <td>70421.173991</td>\n",
       "      <td>NaN</td>\n",
       "      <td>NaN</td>\n",
       "      <td>NaN</td>\n",
       "      <td>NaN</td>\n",
       "    </tr>\n",
       "    <tr>\n",
       "      <th>50</th>\n",
       "      <td>33351.722983</td>\n",
       "      <td>39652.682584</td>\n",
       "      <td>45953.642185</td>\n",
       "      <td>52254.601785</td>\n",
       "      <td>58555.561386</td>\n",
       "      <td>64856.520987</td>\n",
       "      <td>NaN</td>\n",
       "      <td>NaN</td>\n",
       "      <td>NaN</td>\n",
       "      <td>NaN</td>\n",
       "      <td>NaN</td>\n",
       "    </tr>\n",
       "    <tr>\n",
       "      <th>60</th>\n",
       "      <td>34088.029580</td>\n",
       "      <td>40388.989181</td>\n",
       "      <td>46689.948781</td>\n",
       "      <td>52990.908382</td>\n",
       "      <td>59291.867983</td>\n",
       "      <td>NaN</td>\n",
       "      <td>NaN</td>\n",
       "      <td>NaN</td>\n",
       "      <td>NaN</td>\n",
       "      <td>NaN</td>\n",
       "      <td>NaN</td>\n",
       "    </tr>\n",
       "    <tr>\n",
       "      <th>70</th>\n",
       "      <td>34824.336177</td>\n",
       "      <td>41125.295777</td>\n",
       "      <td>47426.255378</td>\n",
       "      <td>53727.214979</td>\n",
       "      <td>NaN</td>\n",
       "      <td>NaN</td>\n",
       "      <td>NaN</td>\n",
       "      <td>NaN</td>\n",
       "      <td>NaN</td>\n",
       "      <td>NaN</td>\n",
       "      <td>NaN</td>\n",
       "    </tr>\n",
       "    <tr>\n",
       "      <th>80</th>\n",
       "      <td>35560.642773</td>\n",
       "      <td>41861.602374</td>\n",
       "      <td>48162.561975</td>\n",
       "      <td>NaN</td>\n",
       "      <td>NaN</td>\n",
       "      <td>NaN</td>\n",
       "      <td>NaN</td>\n",
       "      <td>NaN</td>\n",
       "      <td>NaN</td>\n",
       "      <td>NaN</td>\n",
       "      <td>NaN</td>\n",
       "    </tr>\n",
       "    <tr>\n",
       "      <th>90</th>\n",
       "      <td>36296.949370</td>\n",
       "      <td>42597.908971</td>\n",
       "      <td>NaN</td>\n",
       "      <td>NaN</td>\n",
       "      <td>NaN</td>\n",
       "      <td>NaN</td>\n",
       "      <td>NaN</td>\n",
       "      <td>NaN</td>\n",
       "      <td>NaN</td>\n",
       "      <td>NaN</td>\n",
       "      <td>NaN</td>\n",
       "    </tr>\n",
       "    <tr>\n",
       "      <th>100</th>\n",
       "      <td>37033.255967</td>\n",
       "      <td>NaN</td>\n",
       "      <td>NaN</td>\n",
       "      <td>NaN</td>\n",
       "      <td>NaN</td>\n",
       "      <td>NaN</td>\n",
       "      <td>NaN</td>\n",
       "      <td>NaN</td>\n",
       "      <td>NaN</td>\n",
       "      <td>NaN</td>\n",
       "      <td>NaN</td>\n",
       "    </tr>\n",
       "  </tbody>\n",
       "</table>\n",
       "</div>"
      ],
      "text/plain": [
       "BTC           0             10            20            30            40   \\\n",
       "SP                                                                          \n",
       "0    29670.190000  35971.149601  42272.109201  48573.068802  54874.028403   \n",
       "10   30406.496597  36707.456197  43008.415798  49309.375399  55610.334999   \n",
       "20   31142.803193  37443.762794  43744.722395  50045.681995  56346.641596   \n",
       "30   31879.109790  38180.069391  44481.028991  50781.988592  57082.948193   \n",
       "40   32615.416387  38916.375987  45217.335588  51518.295189  57819.254789   \n",
       "50   33351.722983  39652.682584  45953.642185  52254.601785  58555.561386   \n",
       "60   34088.029580  40388.989181  46689.948781  52990.908382  59291.867983   \n",
       "70   34824.336177  41125.295777  47426.255378  53727.214979           NaN   \n",
       "80   35560.642773  41861.602374  48162.561975           NaN           NaN   \n",
       "90   36296.949370  42597.908971           NaN           NaN           NaN   \n",
       "100  37033.255967           NaN           NaN           NaN           NaN   \n",
       "\n",
       "BTC           50            60            70            80            90   \\\n",
       "SP                                                                          \n",
       "0    61174.988003  67475.947604  73776.907205  80077.866805  86378.826406   \n",
       "10   61911.294600  68212.254201  74513.213801  80814.173402  87115.133003   \n",
       "20   62647.601197  68948.560797  75249.520398  81550.479999           NaN   \n",
       "30   63383.907793  69684.867394  75985.826995           NaN           NaN   \n",
       "40   64120.214390  70421.173991           NaN           NaN           NaN   \n",
       "50   64856.520987           NaN           NaN           NaN           NaN   \n",
       "60            NaN           NaN           NaN           NaN           NaN   \n",
       "70            NaN           NaN           NaN           NaN           NaN   \n",
       "80            NaN           NaN           NaN           NaN           NaN   \n",
       "90            NaN           NaN           NaN           NaN           NaN   \n",
       "100           NaN           NaN           NaN           NaN           NaN   \n",
       "\n",
       "BTC           100  \n",
       "SP                 \n",
       "0    92679.786007  \n",
       "10            NaN  \n",
       "20            NaN  \n",
       "30            NaN  \n",
       "40            NaN  \n",
       "50            NaN  \n",
       "60            NaN  \n",
       "70            NaN  \n",
       "80            NaN  \n",
       "90            NaN  \n",
       "100           NaN  "
      ]
     },
     "execution_count": 43,
     "metadata": {},
     "output_type": "execute_result"
    }
   ],
   "source": [
    "matrix"
   ]
  },
  {
   "cell_type": "code",
   "execution_count": 44,
   "metadata": {},
   "outputs": [
    {
     "data": {
      "text/html": [
       "<style type=\"text/css\">\n",
       "#T_63127_row0_col0 {\n",
       "  background-color: #440154;\n",
       "  color: #f1f1f1;\n",
       "}\n",
       "#T_63127_row0_col1 {\n",
       "  background-color: #482475;\n",
       "  color: #f1f1f1;\n",
       "}\n",
       "#T_63127_row0_col2 {\n",
       "  background-color: #414487;\n",
       "  color: #f1f1f1;\n",
       "}\n",
       "#T_63127_row0_col3 {\n",
       "  background-color: #355f8d;\n",
       "  color: #f1f1f1;\n",
       "}\n",
       "#T_63127_row0_col4 {\n",
       "  background-color: #2a788e;\n",
       "  color: #f1f1f1;\n",
       "}\n",
       "#T_63127_row0_col5 {\n",
       "  background-color: #21918c;\n",
       "  color: #f1f1f1;\n",
       "}\n",
       "#T_63127_row0_col6 {\n",
       "  background-color: #22a884;\n",
       "  color: #f1f1f1;\n",
       "}\n",
       "#T_63127_row0_col7 {\n",
       "  background-color: #44bf70;\n",
       "  color: #f1f1f1;\n",
       "}\n",
       "#T_63127_row0_col8 {\n",
       "  background-color: #7ad151;\n",
       "  color: #000000;\n",
       "}\n",
       "#T_63127_row0_col9 {\n",
       "  background-color: #bddf26;\n",
       "  color: #000000;\n",
       "}\n",
       "#T_63127_row0_col10 {\n",
       "  background-color: #fde725;\n",
       "  color: #000000;\n",
       "}\n",
       "#T_63127_row1_col0 {\n",
       "  background-color: #450457;\n",
       "  color: #f1f1f1;\n",
       "}\n",
       "#T_63127_row1_col1 {\n",
       "  background-color: #482878;\n",
       "  color: #f1f1f1;\n",
       "}\n",
       "#T_63127_row1_col2 {\n",
       "  background-color: #3f4788;\n",
       "  color: #f1f1f1;\n",
       "}\n",
       "#T_63127_row1_col3 {\n",
       "  background-color: #33628d;\n",
       "  color: #f1f1f1;\n",
       "}\n",
       "#T_63127_row1_col4 {\n",
       "  background-color: #297b8e;\n",
       "  color: #f1f1f1;\n",
       "}\n",
       "#T_63127_row1_col5 {\n",
       "  background-color: #20928c;\n",
       "  color: #f1f1f1;\n",
       "}\n",
       "#T_63127_row1_col6 {\n",
       "  background-color: #25ab82;\n",
       "  color: #f1f1f1;\n",
       "}\n",
       "#T_63127_row1_col7 {\n",
       "  background-color: #4ac16d;\n",
       "  color: #000000;\n",
       "}\n",
       "#T_63127_row1_col8 {\n",
       "  background-color: #81d34d;\n",
       "  color: #000000;\n",
       "}\n",
       "#T_63127_row1_col9 {\n",
       "  background-color: #c5e021;\n",
       "  color: #000000;\n",
       "}\n",
       "#T_63127_row1_col10, #T_63127_row2_col9, #T_63127_row2_col10, #T_63127_row3_col8, #T_63127_row3_col9, #T_63127_row3_col10, #T_63127_row4_col7, #T_63127_row4_col8, #T_63127_row4_col9, #T_63127_row4_col10, #T_63127_row5_col6, #T_63127_row5_col7, #T_63127_row5_col8, #T_63127_row5_col9, #T_63127_row5_col10, #T_63127_row6_col5, #T_63127_row6_col6, #T_63127_row6_col7, #T_63127_row6_col8, #T_63127_row6_col9, #T_63127_row6_col10, #T_63127_row7_col4, #T_63127_row7_col5, #T_63127_row7_col6, #T_63127_row7_col7, #T_63127_row7_col8, #T_63127_row7_col9, #T_63127_row7_col10, #T_63127_row8_col3, #T_63127_row8_col4, #T_63127_row8_col5, #T_63127_row8_col6, #T_63127_row8_col7, #T_63127_row8_col8, #T_63127_row8_col9, #T_63127_row8_col10, #T_63127_row9_col2, #T_63127_row9_col3, #T_63127_row9_col4, #T_63127_row9_col5, #T_63127_row9_col6, #T_63127_row9_col7, #T_63127_row9_col8, #T_63127_row9_col9, #T_63127_row9_col10, #T_63127_row10_col1, #T_63127_row10_col2, #T_63127_row10_col3, #T_63127_row10_col4, #T_63127_row10_col5, #T_63127_row10_col6, #T_63127_row10_col7, #T_63127_row10_col8, #T_63127_row10_col9, #T_63127_row10_col10 {\n",
       "  background-color: #000000;\n",
       "  color: #f1f1f1;\n",
       "}\n",
       "#T_63127_row2_col0 {\n",
       "  background-color: #46085c;\n",
       "  color: #f1f1f1;\n",
       "}\n",
       "#T_63127_row2_col1 {\n",
       "  background-color: #472c7a;\n",
       "  color: #f1f1f1;\n",
       "}\n",
       "#T_63127_row2_col2 {\n",
       "  background-color: #3e4a89;\n",
       "  color: #f1f1f1;\n",
       "}\n",
       "#T_63127_row2_col3 {\n",
       "  background-color: #32658e;\n",
       "  color: #f1f1f1;\n",
       "}\n",
       "#T_63127_row2_col4 {\n",
       "  background-color: #277e8e;\n",
       "  color: #f1f1f1;\n",
       "}\n",
       "#T_63127_row2_col5 {\n",
       "  background-color: #1f958b;\n",
       "  color: #f1f1f1;\n",
       "}\n",
       "#T_63127_row2_col6 {\n",
       "  background-color: #27ad81;\n",
       "  color: #f1f1f1;\n",
       "}\n",
       "#T_63127_row2_col7 {\n",
       "  background-color: #50c46a;\n",
       "  color: #000000;\n",
       "}\n",
       "#T_63127_row2_col8 {\n",
       "  background-color: #89d548;\n",
       "  color: #000000;\n",
       "}\n",
       "#T_63127_row3_col0 {\n",
       "  background-color: #470d60;\n",
       "  color: #f1f1f1;\n",
       "}\n",
       "#T_63127_row3_col1 {\n",
       "  background-color: #472f7d;\n",
       "  color: #f1f1f1;\n",
       "}\n",
       "#T_63127_row3_col2 {\n",
       "  background-color: #3d4e8a;\n",
       "  color: #f1f1f1;\n",
       "}\n",
       "#T_63127_row3_col3 {\n",
       "  background-color: #31688e;\n",
       "  color: #f1f1f1;\n",
       "}\n",
       "#T_63127_row3_col4 {\n",
       "  background-color: #26818e;\n",
       "  color: #f1f1f1;\n",
       "}\n",
       "#T_63127_row3_col5 {\n",
       "  background-color: #1f988b;\n",
       "  color: #f1f1f1;\n",
       "}\n",
       "#T_63127_row3_col6 {\n",
       "  background-color: #2ab07f;\n",
       "  color: #f1f1f1;\n",
       "}\n",
       "#T_63127_row3_col7 {\n",
       "  background-color: #56c667;\n",
       "  color: #000000;\n",
       "}\n",
       "#T_63127_row4_col0 {\n",
       "  background-color: #471164;\n",
       "  color: #f1f1f1;\n",
       "}\n",
       "#T_63127_row4_col1 {\n",
       "  background-color: #46337f;\n",
       "  color: #f1f1f1;\n",
       "}\n",
       "#T_63127_row4_col2 {\n",
       "  background-color: #3b518b;\n",
       "  color: #f1f1f1;\n",
       "}\n",
       "#T_63127_row4_col3 {\n",
       "  background-color: #2f6b8e;\n",
       "  color: #f1f1f1;\n",
       "}\n",
       "#T_63127_row4_col4 {\n",
       "  background-color: #25838e;\n",
       "  color: #f1f1f1;\n",
       "}\n",
       "#T_63127_row4_col5 {\n",
       "  background-color: #1e9b8a;\n",
       "  color: #f1f1f1;\n",
       "}\n",
       "#T_63127_row4_col6 {\n",
       "  background-color: #2eb37c;\n",
       "  color: #f1f1f1;\n",
       "}\n",
       "#T_63127_row5_col0 {\n",
       "  background-color: #481668;\n",
       "  color: #f1f1f1;\n",
       "}\n",
       "#T_63127_row5_col1 {\n",
       "  background-color: #453781;\n",
       "  color: #f1f1f1;\n",
       "}\n",
       "#T_63127_row5_col2 {\n",
       "  background-color: #3a548c;\n",
       "  color: #f1f1f1;\n",
       "}\n",
       "#T_63127_row5_col3 {\n",
       "  background-color: #2e6e8e;\n",
       "  color: #f1f1f1;\n",
       "}\n",
       "#T_63127_row5_col4 {\n",
       "  background-color: #24868e;\n",
       "  color: #f1f1f1;\n",
       "}\n",
       "#T_63127_row5_col5 {\n",
       "  background-color: #1f9e89;\n",
       "  color: #f1f1f1;\n",
       "}\n",
       "#T_63127_row6_col0 {\n",
       "  background-color: #481a6c;\n",
       "  color: #f1f1f1;\n",
       "}\n",
       "#T_63127_row6_col1 {\n",
       "  background-color: #443a83;\n",
       "  color: #f1f1f1;\n",
       "}\n",
       "#T_63127_row6_col2 {\n",
       "  background-color: #38588c;\n",
       "  color: #f1f1f1;\n",
       "}\n",
       "#T_63127_row6_col3 {\n",
       "  background-color: #2d718e;\n",
       "  color: #f1f1f1;\n",
       "}\n",
       "#T_63127_row6_col4 {\n",
       "  background-color: #23898e;\n",
       "  color: #f1f1f1;\n",
       "}\n",
       "#T_63127_row7_col0 {\n",
       "  background-color: #481d6f;\n",
       "  color: #f1f1f1;\n",
       "}\n",
       "#T_63127_row7_col1 {\n",
       "  background-color: #433e85;\n",
       "  color: #f1f1f1;\n",
       "}\n",
       "#T_63127_row7_col2 {\n",
       "  background-color: #375b8d;\n",
       "  color: #f1f1f1;\n",
       "}\n",
       "#T_63127_row7_col3 {\n",
       "  background-color: #2c738e;\n",
       "  color: #f1f1f1;\n",
       "}\n",
       "#T_63127_row8_col0 {\n",
       "  background-color: #482173;\n",
       "  color: #f1f1f1;\n",
       "}\n",
       "#T_63127_row8_col1 {\n",
       "  background-color: #424186;\n",
       "  color: #f1f1f1;\n",
       "}\n",
       "#T_63127_row8_col2 {\n",
       "  background-color: #355e8d;\n",
       "  color: #f1f1f1;\n",
       "}\n",
       "#T_63127_row9_col0 {\n",
       "  background-color: #482576;\n",
       "  color: #f1f1f1;\n",
       "}\n",
       "#T_63127_row9_col1 {\n",
       "  background-color: #404588;\n",
       "  color: #f1f1f1;\n",
       "}\n",
       "#T_63127_row10_col0 {\n",
       "  background-color: #482979;\n",
       "  color: #f1f1f1;\n",
       "}\n",
       "</style>\n",
       "<table id=\"T_63127\">\n",
       "  <thead>\n",
       "    <tr>\n",
       "      <th class=\"index_name level0\" >BTC</th>\n",
       "      <th id=\"T_63127_level0_col0\" class=\"col_heading level0 col0\" >0</th>\n",
       "      <th id=\"T_63127_level0_col1\" class=\"col_heading level0 col1\" >10</th>\n",
       "      <th id=\"T_63127_level0_col2\" class=\"col_heading level0 col2\" >20</th>\n",
       "      <th id=\"T_63127_level0_col3\" class=\"col_heading level0 col3\" >30</th>\n",
       "      <th id=\"T_63127_level0_col4\" class=\"col_heading level0 col4\" >40</th>\n",
       "      <th id=\"T_63127_level0_col5\" class=\"col_heading level0 col5\" >50</th>\n",
       "      <th id=\"T_63127_level0_col6\" class=\"col_heading level0 col6\" >60</th>\n",
       "      <th id=\"T_63127_level0_col7\" class=\"col_heading level0 col7\" >70</th>\n",
       "      <th id=\"T_63127_level0_col8\" class=\"col_heading level0 col8\" >80</th>\n",
       "      <th id=\"T_63127_level0_col9\" class=\"col_heading level0 col9\" >90</th>\n",
       "      <th id=\"T_63127_level0_col10\" class=\"col_heading level0 col10\" >100</th>\n",
       "    </tr>\n",
       "    <tr>\n",
       "      <th class=\"index_name level0\" >SP</th>\n",
       "      <th class=\"blank col0\" >&nbsp;</th>\n",
       "      <th class=\"blank col1\" >&nbsp;</th>\n",
       "      <th class=\"blank col2\" >&nbsp;</th>\n",
       "      <th class=\"blank col3\" >&nbsp;</th>\n",
       "      <th class=\"blank col4\" >&nbsp;</th>\n",
       "      <th class=\"blank col5\" >&nbsp;</th>\n",
       "      <th class=\"blank col6\" >&nbsp;</th>\n",
       "      <th class=\"blank col7\" >&nbsp;</th>\n",
       "      <th class=\"blank col8\" >&nbsp;</th>\n",
       "      <th class=\"blank col9\" >&nbsp;</th>\n",
       "      <th class=\"blank col10\" >&nbsp;</th>\n",
       "    </tr>\n",
       "  </thead>\n",
       "  <tbody>\n",
       "    <tr>\n",
       "      <th id=\"T_63127_level0_row0\" class=\"row_heading level0 row0\" >0</th>\n",
       "      <td id=\"T_63127_row0_col0\" class=\"data row0 col0\" >29670.190000</td>\n",
       "      <td id=\"T_63127_row0_col1\" class=\"data row0 col1\" >35971.149601</td>\n",
       "      <td id=\"T_63127_row0_col2\" class=\"data row0 col2\" >42272.109201</td>\n",
       "      <td id=\"T_63127_row0_col3\" class=\"data row0 col3\" >48573.068802</td>\n",
       "      <td id=\"T_63127_row0_col4\" class=\"data row0 col4\" >54874.028403</td>\n",
       "      <td id=\"T_63127_row0_col5\" class=\"data row0 col5\" >61174.988003</td>\n",
       "      <td id=\"T_63127_row0_col6\" class=\"data row0 col6\" >67475.947604</td>\n",
       "      <td id=\"T_63127_row0_col7\" class=\"data row0 col7\" >73776.907205</td>\n",
       "      <td id=\"T_63127_row0_col8\" class=\"data row0 col8\" >80077.866805</td>\n",
       "      <td id=\"T_63127_row0_col9\" class=\"data row0 col9\" >86378.826406</td>\n",
       "      <td id=\"T_63127_row0_col10\" class=\"data row0 col10\" >92679.786007</td>\n",
       "    </tr>\n",
       "    <tr>\n",
       "      <th id=\"T_63127_level0_row1\" class=\"row_heading level0 row1\" >10</th>\n",
       "      <td id=\"T_63127_row1_col0\" class=\"data row1 col0\" >30406.496597</td>\n",
       "      <td id=\"T_63127_row1_col1\" class=\"data row1 col1\" >36707.456197</td>\n",
       "      <td id=\"T_63127_row1_col2\" class=\"data row1 col2\" >43008.415798</td>\n",
       "      <td id=\"T_63127_row1_col3\" class=\"data row1 col3\" >49309.375399</td>\n",
       "      <td id=\"T_63127_row1_col4\" class=\"data row1 col4\" >55610.334999</td>\n",
       "      <td id=\"T_63127_row1_col5\" class=\"data row1 col5\" >61911.294600</td>\n",
       "      <td id=\"T_63127_row1_col6\" class=\"data row1 col6\" >68212.254201</td>\n",
       "      <td id=\"T_63127_row1_col7\" class=\"data row1 col7\" >74513.213801</td>\n",
       "      <td id=\"T_63127_row1_col8\" class=\"data row1 col8\" >80814.173402</td>\n",
       "      <td id=\"T_63127_row1_col9\" class=\"data row1 col9\" >87115.133003</td>\n",
       "      <td id=\"T_63127_row1_col10\" class=\"data row1 col10\" ></td>\n",
       "    </tr>\n",
       "    <tr>\n",
       "      <th id=\"T_63127_level0_row2\" class=\"row_heading level0 row2\" >20</th>\n",
       "      <td id=\"T_63127_row2_col0\" class=\"data row2 col0\" >31142.803193</td>\n",
       "      <td id=\"T_63127_row2_col1\" class=\"data row2 col1\" >37443.762794</td>\n",
       "      <td id=\"T_63127_row2_col2\" class=\"data row2 col2\" >43744.722395</td>\n",
       "      <td id=\"T_63127_row2_col3\" class=\"data row2 col3\" >50045.681995</td>\n",
       "      <td id=\"T_63127_row2_col4\" class=\"data row2 col4\" >56346.641596</td>\n",
       "      <td id=\"T_63127_row2_col5\" class=\"data row2 col5\" >62647.601197</td>\n",
       "      <td id=\"T_63127_row2_col6\" class=\"data row2 col6\" >68948.560797</td>\n",
       "      <td id=\"T_63127_row2_col7\" class=\"data row2 col7\" >75249.520398</td>\n",
       "      <td id=\"T_63127_row2_col8\" class=\"data row2 col8\" >81550.479999</td>\n",
       "      <td id=\"T_63127_row2_col9\" class=\"data row2 col9\" ></td>\n",
       "      <td id=\"T_63127_row2_col10\" class=\"data row2 col10\" ></td>\n",
       "    </tr>\n",
       "    <tr>\n",
       "      <th id=\"T_63127_level0_row3\" class=\"row_heading level0 row3\" >30</th>\n",
       "      <td id=\"T_63127_row3_col0\" class=\"data row3 col0\" >31879.109790</td>\n",
       "      <td id=\"T_63127_row3_col1\" class=\"data row3 col1\" >38180.069391</td>\n",
       "      <td id=\"T_63127_row3_col2\" class=\"data row3 col2\" >44481.028991</td>\n",
       "      <td id=\"T_63127_row3_col3\" class=\"data row3 col3\" >50781.988592</td>\n",
       "      <td id=\"T_63127_row3_col4\" class=\"data row3 col4\" >57082.948193</td>\n",
       "      <td id=\"T_63127_row3_col5\" class=\"data row3 col5\" >63383.907793</td>\n",
       "      <td id=\"T_63127_row3_col6\" class=\"data row3 col6\" >69684.867394</td>\n",
       "      <td id=\"T_63127_row3_col7\" class=\"data row3 col7\" >75985.826995</td>\n",
       "      <td id=\"T_63127_row3_col8\" class=\"data row3 col8\" ></td>\n",
       "      <td id=\"T_63127_row3_col9\" class=\"data row3 col9\" ></td>\n",
       "      <td id=\"T_63127_row3_col10\" class=\"data row3 col10\" ></td>\n",
       "    </tr>\n",
       "    <tr>\n",
       "      <th id=\"T_63127_level0_row4\" class=\"row_heading level0 row4\" >40</th>\n",
       "      <td id=\"T_63127_row4_col0\" class=\"data row4 col0\" >32615.416387</td>\n",
       "      <td id=\"T_63127_row4_col1\" class=\"data row4 col1\" >38916.375987</td>\n",
       "      <td id=\"T_63127_row4_col2\" class=\"data row4 col2\" >45217.335588</td>\n",
       "      <td id=\"T_63127_row4_col3\" class=\"data row4 col3\" >51518.295189</td>\n",
       "      <td id=\"T_63127_row4_col4\" class=\"data row4 col4\" >57819.254789</td>\n",
       "      <td id=\"T_63127_row4_col5\" class=\"data row4 col5\" >64120.214390</td>\n",
       "      <td id=\"T_63127_row4_col6\" class=\"data row4 col6\" >70421.173991</td>\n",
       "      <td id=\"T_63127_row4_col7\" class=\"data row4 col7\" ></td>\n",
       "      <td id=\"T_63127_row4_col8\" class=\"data row4 col8\" ></td>\n",
       "      <td id=\"T_63127_row4_col9\" class=\"data row4 col9\" ></td>\n",
       "      <td id=\"T_63127_row4_col10\" class=\"data row4 col10\" ></td>\n",
       "    </tr>\n",
       "    <tr>\n",
       "      <th id=\"T_63127_level0_row5\" class=\"row_heading level0 row5\" >50</th>\n",
       "      <td id=\"T_63127_row5_col0\" class=\"data row5 col0\" >33351.722983</td>\n",
       "      <td id=\"T_63127_row5_col1\" class=\"data row5 col1\" >39652.682584</td>\n",
       "      <td id=\"T_63127_row5_col2\" class=\"data row5 col2\" >45953.642185</td>\n",
       "      <td id=\"T_63127_row5_col3\" class=\"data row5 col3\" >52254.601785</td>\n",
       "      <td id=\"T_63127_row5_col4\" class=\"data row5 col4\" >58555.561386</td>\n",
       "      <td id=\"T_63127_row5_col5\" class=\"data row5 col5\" >64856.520987</td>\n",
       "      <td id=\"T_63127_row5_col6\" class=\"data row5 col6\" ></td>\n",
       "      <td id=\"T_63127_row5_col7\" class=\"data row5 col7\" ></td>\n",
       "      <td id=\"T_63127_row5_col8\" class=\"data row5 col8\" ></td>\n",
       "      <td id=\"T_63127_row5_col9\" class=\"data row5 col9\" ></td>\n",
       "      <td id=\"T_63127_row5_col10\" class=\"data row5 col10\" ></td>\n",
       "    </tr>\n",
       "    <tr>\n",
       "      <th id=\"T_63127_level0_row6\" class=\"row_heading level0 row6\" >60</th>\n",
       "      <td id=\"T_63127_row6_col0\" class=\"data row6 col0\" >34088.029580</td>\n",
       "      <td id=\"T_63127_row6_col1\" class=\"data row6 col1\" >40388.989181</td>\n",
       "      <td id=\"T_63127_row6_col2\" class=\"data row6 col2\" >46689.948781</td>\n",
       "      <td id=\"T_63127_row6_col3\" class=\"data row6 col3\" >52990.908382</td>\n",
       "      <td id=\"T_63127_row6_col4\" class=\"data row6 col4\" >59291.867983</td>\n",
       "      <td id=\"T_63127_row6_col5\" class=\"data row6 col5\" ></td>\n",
       "      <td id=\"T_63127_row6_col6\" class=\"data row6 col6\" ></td>\n",
       "      <td id=\"T_63127_row6_col7\" class=\"data row6 col7\" ></td>\n",
       "      <td id=\"T_63127_row6_col8\" class=\"data row6 col8\" ></td>\n",
       "      <td id=\"T_63127_row6_col9\" class=\"data row6 col9\" ></td>\n",
       "      <td id=\"T_63127_row6_col10\" class=\"data row6 col10\" ></td>\n",
       "    </tr>\n",
       "    <tr>\n",
       "      <th id=\"T_63127_level0_row7\" class=\"row_heading level0 row7\" >70</th>\n",
       "      <td id=\"T_63127_row7_col0\" class=\"data row7 col0\" >34824.336177</td>\n",
       "      <td id=\"T_63127_row7_col1\" class=\"data row7 col1\" >41125.295777</td>\n",
       "      <td id=\"T_63127_row7_col2\" class=\"data row7 col2\" >47426.255378</td>\n",
       "      <td id=\"T_63127_row7_col3\" class=\"data row7 col3\" >53727.214979</td>\n",
       "      <td id=\"T_63127_row7_col4\" class=\"data row7 col4\" ></td>\n",
       "      <td id=\"T_63127_row7_col5\" class=\"data row7 col5\" ></td>\n",
       "      <td id=\"T_63127_row7_col6\" class=\"data row7 col6\" ></td>\n",
       "      <td id=\"T_63127_row7_col7\" class=\"data row7 col7\" ></td>\n",
       "      <td id=\"T_63127_row7_col8\" class=\"data row7 col8\" ></td>\n",
       "      <td id=\"T_63127_row7_col9\" class=\"data row7 col9\" ></td>\n",
       "      <td id=\"T_63127_row7_col10\" class=\"data row7 col10\" ></td>\n",
       "    </tr>\n",
       "    <tr>\n",
       "      <th id=\"T_63127_level0_row8\" class=\"row_heading level0 row8\" >80</th>\n",
       "      <td id=\"T_63127_row8_col0\" class=\"data row8 col0\" >35560.642773</td>\n",
       "      <td id=\"T_63127_row8_col1\" class=\"data row8 col1\" >41861.602374</td>\n",
       "      <td id=\"T_63127_row8_col2\" class=\"data row8 col2\" >48162.561975</td>\n",
       "      <td id=\"T_63127_row8_col3\" class=\"data row8 col3\" ></td>\n",
       "      <td id=\"T_63127_row8_col4\" class=\"data row8 col4\" ></td>\n",
       "      <td id=\"T_63127_row8_col5\" class=\"data row8 col5\" ></td>\n",
       "      <td id=\"T_63127_row8_col6\" class=\"data row8 col6\" ></td>\n",
       "      <td id=\"T_63127_row8_col7\" class=\"data row8 col7\" ></td>\n",
       "      <td id=\"T_63127_row8_col8\" class=\"data row8 col8\" ></td>\n",
       "      <td id=\"T_63127_row8_col9\" class=\"data row8 col9\" ></td>\n",
       "      <td id=\"T_63127_row8_col10\" class=\"data row8 col10\" ></td>\n",
       "    </tr>\n",
       "    <tr>\n",
       "      <th id=\"T_63127_level0_row9\" class=\"row_heading level0 row9\" >90</th>\n",
       "      <td id=\"T_63127_row9_col0\" class=\"data row9 col0\" >36296.949370</td>\n",
       "      <td id=\"T_63127_row9_col1\" class=\"data row9 col1\" >42597.908971</td>\n",
       "      <td id=\"T_63127_row9_col2\" class=\"data row9 col2\" ></td>\n",
       "      <td id=\"T_63127_row9_col3\" class=\"data row9 col3\" ></td>\n",
       "      <td id=\"T_63127_row9_col4\" class=\"data row9 col4\" ></td>\n",
       "      <td id=\"T_63127_row9_col5\" class=\"data row9 col5\" ></td>\n",
       "      <td id=\"T_63127_row9_col6\" class=\"data row9 col6\" ></td>\n",
       "      <td id=\"T_63127_row9_col7\" class=\"data row9 col7\" ></td>\n",
       "      <td id=\"T_63127_row9_col8\" class=\"data row9 col8\" ></td>\n",
       "      <td id=\"T_63127_row9_col9\" class=\"data row9 col9\" ></td>\n",
       "      <td id=\"T_63127_row9_col10\" class=\"data row9 col10\" ></td>\n",
       "    </tr>\n",
       "    <tr>\n",
       "      <th id=\"T_63127_level0_row10\" class=\"row_heading level0 row10\" >100</th>\n",
       "      <td id=\"T_63127_row10_col0\" class=\"data row10 col0\" >37033.255967</td>\n",
       "      <td id=\"T_63127_row10_col1\" class=\"data row10 col1\" ></td>\n",
       "      <td id=\"T_63127_row10_col2\" class=\"data row10 col2\" ></td>\n",
       "      <td id=\"T_63127_row10_col3\" class=\"data row10 col3\" ></td>\n",
       "      <td id=\"T_63127_row10_col4\" class=\"data row10 col4\" ></td>\n",
       "      <td id=\"T_63127_row10_col5\" class=\"data row10 col5\" ></td>\n",
       "      <td id=\"T_63127_row10_col6\" class=\"data row10 col6\" ></td>\n",
       "      <td id=\"T_63127_row10_col7\" class=\"data row10 col7\" ></td>\n",
       "      <td id=\"T_63127_row10_col8\" class=\"data row10 col8\" ></td>\n",
       "      <td id=\"T_63127_row10_col9\" class=\"data row10 col9\" ></td>\n",
       "      <td id=\"T_63127_row10_col10\" class=\"data row10 col10\" ></td>\n",
       "    </tr>\n",
       "  </tbody>\n",
       "</table>\n"
      ],
      "text/plain": [
       "<pandas.io.formats.style.Styler at 0x1b783860440>"
      ]
     },
     "execution_count": 44,
     "metadata": {},
     "output_type": "execute_result"
    }
   ],
   "source": [
    "# -------------------------------------------------------------------------\n",
    "# Style the allocation matrix for better readability\n",
    "# -------------------------------------------------------------------------\n",
    "\n",
    "styled_matrix = (\n",
    "    matrix.style\n",
    "    .background_gradient(cmap=\"viridis\", axis=None)  # apply gradient to entire DataFrame\n",
    "    .format(na_rep=\"\")  # hide NaN values\n",
    ")\n",
    "\n",
    "# Display styled matrix\n",
    "styled_matrix\n",
    "\n"
   ]
  },
  {
   "cell_type": "markdown",
   "metadata": {},
   "source": [
    "### HeatMap con la matriz para visualizar la evolucion de la inversion segun las opciones"
   ]
  },
  {
   "cell_type": "code",
   "execution_count": 45,
   "metadata": {},
   "outputs": [
    {
     "data": {
      "application/vnd.plotly.v1+json": {
       "config": {
        "plotlyServerURL": "https://plot.ly"
       },
       "data": [
        {
         "coloraxis": "coloraxis",
         "hovertemplate": "BTC: %{x}<br>SP: %{y}<br>color: %{z}<extra></extra>",
         "name": "0",
         "texttemplate": "%{z:.2f}",
         "type": "heatmap",
         "x": [
          0,
          10,
          20,
          30,
          40,
          50,
          60,
          70,
          80,
          90,
          100
         ],
         "xaxis": "x",
         "y": [
          0,
          10,
          20,
          30,
          40,
          50,
          60,
          70,
          80,
          90,
          100
         ],
         "yaxis": "y",
         "z": [
          [
           29670.190000000002,
           35971.14960065224,
           42272.10920130448,
           48573.06880195673,
           54874.028402608965,
           61174.98800326121,
           67475.94760391346,
           73776.90720456568,
           80077.86680521793,
           86378.82640587022,
           92679.78600652242
          ],
          [
           30406.49659668647,
           36707.45619733871,
           43008.41579799095,
           49309.3753986432,
           55610.33499929543,
           61911.29459994768,
           68212.25420059991,
           74513.21380125215,
           80814.1734019044,
           87115.13300255669,
           null
          ],
          [
           31142.803193372936,
           37443.76279402518,
           43744.72239467742,
           50045.681995329665,
           56346.6415959819,
           62647.60119663415,
           68948.5607972864,
           75249.52039793861,
           81550.47999859086,
           null,
           null
          ],
          [
           31879.109790059403,
           38180.069390711644,
           44481.028991363884,
           50781.98859201613,
           57082.948192668366,
           63383.90779332061,
           69684.86739397285,
           75985.82699462508,
           null,
           null,
           null
          ],
          [
           32615.41638674587,
           38916.37598739811,
           45217.33558805035,
           51518.2951887026,
           57819.25478935483,
           64120.21439000708,
           70421.17399065931,
           null,
           null,
           null,
           null
          ],
          [
           33351.72298343234,
           39652.682584084585,
           45953.64218473682,
           52254.601785389066,
           58555.5613860413,
           64856.52098669355,
           null,
           null,
           null,
           null,
           null
          ],
          [
           34088.029580118804,
           40388.98918077104,
           46689.948781423285,
           52990.908382075526,
           59291.86798272777,
           null,
           null,
           null,
           null,
           null,
           null
          ],
          [
           34824.33617680526,
           41125.295777457504,
           47426.25537810974,
           53727.214978761986,
           null,
           null,
           null,
           null,
           null,
           null,
           null
          ],
          [
           35560.64277349174,
           41861.60237414397,
           48162.56197479622,
           null,
           null,
           null,
           null,
           null,
           null,
           null,
           null
          ],
          [
           36296.94937017821,
           42597.90897083045,
           null,
           null,
           null,
           null,
           null,
           null,
           null,
           null,
           null
          ],
          [
           37033.25596686468,
           null,
           null,
           null,
           null,
           null,
           null,
           null,
           null,
           null,
           null
          ]
         ]
        }
       ],
       "layout": {
        "coloraxis": {
         "colorscale": [
          [
           0,
           "#440154"
          ],
          [
           0.1111111111111111,
           "#482878"
          ],
          [
           0.2222222222222222,
           "#3e4989"
          ],
          [
           0.3333333333333333,
           "#31688e"
          ],
          [
           0.4444444444444444,
           "#26828e"
          ],
          [
           0.5555555555555556,
           "#1f9e89"
          ],
          [
           0.6666666666666666,
           "#35b779"
          ],
          [
           0.7777777777777778,
           "#6ece58"
          ],
          [
           0.8888888888888888,
           "#b5de2b"
          ],
          [
           1,
           "#fde725"
          ]
         ]
        },
        "height": 600,
        "margin": {
         "b": 10,
         "l": 10,
         "r": 10,
         "t": 50
        },
        "template": {
         "data": {
          "bar": [
           {
            "error_x": {
             "color": "rgb(51,51,51)"
            },
            "error_y": {
             "color": "rgb(51,51,51)"
            },
            "marker": {
             "line": {
              "color": "rgb(237,237,237)",
              "width": 0.5
             },
             "pattern": {
              "fillmode": "overlay",
              "size": 10,
              "solidity": 0.2
             }
            },
            "type": "bar"
           }
          ],
          "barpolar": [
           {
            "marker": {
             "line": {
              "color": "rgb(237,237,237)",
              "width": 0.5
             },
             "pattern": {
              "fillmode": "overlay",
              "size": 10,
              "solidity": 0.2
             }
            },
            "type": "barpolar"
           }
          ],
          "carpet": [
           {
            "aaxis": {
             "endlinecolor": "rgb(51,51,51)",
             "gridcolor": "white",
             "linecolor": "white",
             "minorgridcolor": "white",
             "startlinecolor": "rgb(51,51,51)"
            },
            "baxis": {
             "endlinecolor": "rgb(51,51,51)",
             "gridcolor": "white",
             "linecolor": "white",
             "minorgridcolor": "white",
             "startlinecolor": "rgb(51,51,51)"
            },
            "type": "carpet"
           }
          ],
          "choropleth": [
           {
            "colorbar": {
             "outlinewidth": 0,
             "tickcolor": "rgb(237,237,237)",
             "ticklen": 6,
             "ticks": "inside"
            },
            "type": "choropleth"
           }
          ],
          "contour": [
           {
            "colorbar": {
             "outlinewidth": 0,
             "tickcolor": "rgb(237,237,237)",
             "ticklen": 6,
             "ticks": "inside"
            },
            "colorscale": [
             [
              0,
              "rgb(20,44,66)"
             ],
             [
              1,
              "rgb(90,179,244)"
             ]
            ],
            "type": "contour"
           }
          ],
          "contourcarpet": [
           {
            "colorbar": {
             "outlinewidth": 0,
             "tickcolor": "rgb(237,237,237)",
             "ticklen": 6,
             "ticks": "inside"
            },
            "type": "contourcarpet"
           }
          ],
          "heatmap": [
           {
            "colorbar": {
             "outlinewidth": 0,
             "tickcolor": "rgb(237,237,237)",
             "ticklen": 6,
             "ticks": "inside"
            },
            "colorscale": [
             [
              0,
              "rgb(20,44,66)"
             ],
             [
              1,
              "rgb(90,179,244)"
             ]
            ],
            "type": "heatmap"
           }
          ],
          "heatmapgl": [
           {
            "colorbar": {
             "outlinewidth": 0,
             "tickcolor": "rgb(237,237,237)",
             "ticklen": 6,
             "ticks": "inside"
            },
            "colorscale": [
             [
              0,
              "rgb(20,44,66)"
             ],
             [
              1,
              "rgb(90,179,244)"
             ]
            ],
            "type": "heatmapgl"
           }
          ],
          "histogram": [
           {
            "marker": {
             "pattern": {
              "fillmode": "overlay",
              "size": 10,
              "solidity": 0.2
             }
            },
            "type": "histogram"
           }
          ],
          "histogram2d": [
           {
            "colorbar": {
             "outlinewidth": 0,
             "tickcolor": "rgb(237,237,237)",
             "ticklen": 6,
             "ticks": "inside"
            },
            "colorscale": [
             [
              0,
              "rgb(20,44,66)"
             ],
             [
              1,
              "rgb(90,179,244)"
             ]
            ],
            "type": "histogram2d"
           }
          ],
          "histogram2dcontour": [
           {
            "colorbar": {
             "outlinewidth": 0,
             "tickcolor": "rgb(237,237,237)",
             "ticklen": 6,
             "ticks": "inside"
            },
            "colorscale": [
             [
              0,
              "rgb(20,44,66)"
             ],
             [
              1,
              "rgb(90,179,244)"
             ]
            ],
            "type": "histogram2dcontour"
           }
          ],
          "mesh3d": [
           {
            "colorbar": {
             "outlinewidth": 0,
             "tickcolor": "rgb(237,237,237)",
             "ticklen": 6,
             "ticks": "inside"
            },
            "type": "mesh3d"
           }
          ],
          "parcoords": [
           {
            "line": {
             "colorbar": {
              "outlinewidth": 0,
              "tickcolor": "rgb(237,237,237)",
              "ticklen": 6,
              "ticks": "inside"
             }
            },
            "type": "parcoords"
           }
          ],
          "pie": [
           {
            "automargin": true,
            "type": "pie"
           }
          ],
          "scatter": [
           {
            "fillpattern": {
             "fillmode": "overlay",
             "size": 10,
             "solidity": 0.2
            },
            "type": "scatter"
           }
          ],
          "scatter3d": [
           {
            "line": {
             "colorbar": {
              "outlinewidth": 0,
              "tickcolor": "rgb(237,237,237)",
              "ticklen": 6,
              "ticks": "inside"
             }
            },
            "marker": {
             "colorbar": {
              "outlinewidth": 0,
              "tickcolor": "rgb(237,237,237)",
              "ticklen": 6,
              "ticks": "inside"
             }
            },
            "type": "scatter3d"
           }
          ],
          "scattercarpet": [
           {
            "marker": {
             "colorbar": {
              "outlinewidth": 0,
              "tickcolor": "rgb(237,237,237)",
              "ticklen": 6,
              "ticks": "inside"
             }
            },
            "type": "scattercarpet"
           }
          ],
          "scattergeo": [
           {
            "marker": {
             "colorbar": {
              "outlinewidth": 0,
              "tickcolor": "rgb(237,237,237)",
              "ticklen": 6,
              "ticks": "inside"
             }
            },
            "type": "scattergeo"
           }
          ],
          "scattergl": [
           {
            "marker": {
             "colorbar": {
              "outlinewidth": 0,
              "tickcolor": "rgb(237,237,237)",
              "ticklen": 6,
              "ticks": "inside"
             }
            },
            "type": "scattergl"
           }
          ],
          "scattermapbox": [
           {
            "marker": {
             "colorbar": {
              "outlinewidth": 0,
              "tickcolor": "rgb(237,237,237)",
              "ticklen": 6,
              "ticks": "inside"
             }
            },
            "type": "scattermapbox"
           }
          ],
          "scatterpolar": [
           {
            "marker": {
             "colorbar": {
              "outlinewidth": 0,
              "tickcolor": "rgb(237,237,237)",
              "ticklen": 6,
              "ticks": "inside"
             }
            },
            "type": "scatterpolar"
           }
          ],
          "scatterpolargl": [
           {
            "marker": {
             "colorbar": {
              "outlinewidth": 0,
              "tickcolor": "rgb(237,237,237)",
              "ticklen": 6,
              "ticks": "inside"
             }
            },
            "type": "scatterpolargl"
           }
          ],
          "scatterternary": [
           {
            "marker": {
             "colorbar": {
              "outlinewidth": 0,
              "tickcolor": "rgb(237,237,237)",
              "ticklen": 6,
              "ticks": "inside"
             }
            },
            "type": "scatterternary"
           }
          ],
          "surface": [
           {
            "colorbar": {
             "outlinewidth": 0,
             "tickcolor": "rgb(237,237,237)",
             "ticklen": 6,
             "ticks": "inside"
            },
            "colorscale": [
             [
              0,
              "rgb(20,44,66)"
             ],
             [
              1,
              "rgb(90,179,244)"
             ]
            ],
            "type": "surface"
           }
          ],
          "table": [
           {
            "cells": {
             "fill": {
              "color": "rgb(237,237,237)"
             },
             "line": {
              "color": "white"
             }
            },
            "header": {
             "fill": {
              "color": "rgb(217,217,217)"
             },
             "line": {
              "color": "white"
             }
            },
            "type": "table"
           }
          ]
         },
         "layout": {
          "annotationdefaults": {
           "arrowhead": 0,
           "arrowwidth": 1
          },
          "autotypenumbers": "strict",
          "coloraxis": {
           "colorbar": {
            "outlinewidth": 0,
            "tickcolor": "rgb(237,237,237)",
            "ticklen": 6,
            "ticks": "inside"
           }
          },
          "colorscale": {
           "sequential": [
            [
             0,
             "rgb(20,44,66)"
            ],
            [
             1,
             "rgb(90,179,244)"
            ]
           ],
           "sequentialminus": [
            [
             0,
             "rgb(20,44,66)"
            ],
            [
             1,
             "rgb(90,179,244)"
            ]
           ]
          },
          "colorway": [
           "#F8766D",
           "#A3A500",
           "#00BF7D",
           "#00B0F6",
           "#E76BF3"
          ],
          "font": {
           "color": "rgb(51,51,51)"
          },
          "geo": {
           "bgcolor": "white",
           "lakecolor": "white",
           "landcolor": "rgb(237,237,237)",
           "showlakes": true,
           "showland": true,
           "subunitcolor": "white"
          },
          "hoverlabel": {
           "align": "left"
          },
          "hovermode": "closest",
          "paper_bgcolor": "white",
          "plot_bgcolor": "rgb(237,237,237)",
          "polar": {
           "angularaxis": {
            "gridcolor": "white",
            "linecolor": "white",
            "showgrid": true,
            "tickcolor": "rgb(51,51,51)",
            "ticks": "outside"
           },
           "bgcolor": "rgb(237,237,237)",
           "radialaxis": {
            "gridcolor": "white",
            "linecolor": "white",
            "showgrid": true,
            "tickcolor": "rgb(51,51,51)",
            "ticks": "outside"
           }
          },
          "scene": {
           "xaxis": {
            "backgroundcolor": "rgb(237,237,237)",
            "gridcolor": "white",
            "gridwidth": 2,
            "linecolor": "white",
            "showbackground": true,
            "showgrid": true,
            "tickcolor": "rgb(51,51,51)",
            "ticks": "outside",
            "zerolinecolor": "white"
           },
           "yaxis": {
            "backgroundcolor": "rgb(237,237,237)",
            "gridcolor": "white",
            "gridwidth": 2,
            "linecolor": "white",
            "showbackground": true,
            "showgrid": true,
            "tickcolor": "rgb(51,51,51)",
            "ticks": "outside",
            "zerolinecolor": "white"
           },
           "zaxis": {
            "backgroundcolor": "rgb(237,237,237)",
            "gridcolor": "white",
            "gridwidth": 2,
            "linecolor": "white",
            "showbackground": true,
            "showgrid": true,
            "tickcolor": "rgb(51,51,51)",
            "ticks": "outside",
            "zerolinecolor": "white"
           }
          },
          "shapedefaults": {
           "fillcolor": "black",
           "line": {
            "width": 0
           },
           "opacity": 0.3
          },
          "ternary": {
           "aaxis": {
            "gridcolor": "white",
            "linecolor": "white",
            "showgrid": true,
            "tickcolor": "rgb(51,51,51)",
            "ticks": "outside"
           },
           "baxis": {
            "gridcolor": "white",
            "linecolor": "white",
            "showgrid": true,
            "tickcolor": "rgb(51,51,51)",
            "ticks": "outside"
           },
           "bgcolor": "rgb(237,237,237)",
           "caxis": {
            "gridcolor": "white",
            "linecolor": "white",
            "showgrid": true,
            "tickcolor": "rgb(51,51,51)",
            "ticks": "outside"
           }
          },
          "xaxis": {
           "automargin": true,
           "gridcolor": "white",
           "linecolor": "white",
           "showgrid": true,
           "tickcolor": "rgb(51,51,51)",
           "ticks": "outside",
           "title": {
            "standoff": 15
           },
           "zerolinecolor": "white"
          },
          "yaxis": {
           "automargin": true,
           "gridcolor": "white",
           "linecolor": "white",
           "showgrid": true,
           "tickcolor": "rgb(51,51,51)",
           "ticks": "outside",
           "title": {
            "standoff": 15
           },
           "zerolinecolor": "white"
          }
         }
        },
        "title": {
         "text": "Investment Allocation: S&P500 vs Bitcoin"
        },
        "width": 800,
        "xaxis": {
         "anchor": "y",
         "constrain": "domain",
         "domain": [
          0,
          1
         ],
         "scaleanchor": "y",
         "title": {
          "text": "Bitcoin Allocation (%)"
         }
        },
        "yaxis": {
         "anchor": "x",
         "autorange": "reversed",
         "constrain": "domain",
         "domain": [
          0,
          1
         ],
         "title": {
          "text": "S&P500 Allocation (%)"
         }
        }
       }
      }
     },
     "metadata": {},
     "output_type": "display_data"
    }
   ],
   "source": [
    "# -------------------------------------------------------------------------\n",
    "# Heatmap of final portfolio values by BTC vs S&P500 allocation\n",
    "# -------------------------------------------------------------------------\n",
    "\n",
    "fig = px.imshow(\n",
    "    matrix,\n",
    "    text_auto=\".2f\",  # show values with 2 decimals\n",
    "    color_continuous_scale=\"Viridis\"\n",
    ")\n",
    "\n",
    "fig.update_layout(\n",
    "    title=\"Investment Allocation: S&P500 vs Bitcoin\",\n",
    "    xaxis_title=\"Bitcoin Allocation (%)\",\n",
    "    yaxis_title=\"S&P500 Allocation (%)\",\n",
    "    template=\"ggplot2\",\n",
    "    width=800,\n",
    "    height=600,\n",
    "    margin=dict(l=10, r=10, t=50, b=10)  # adjust margins\n",
    ")\n",
    "\n",
    "fig.show()\n"
   ]
  }
 ],
 "metadata": {
  "kernelspec": {
   "display_name": "base",
   "language": "python",
   "name": "python3"
  },
  "language_info": {
   "codemirror_mode": {
    "name": "ipython",
    "version": 3
   },
   "file_extension": ".py",
   "mimetype": "text/x-python",
   "name": "python",
   "nbconvert_exporter": "python",
   "pygments_lexer": "ipython3",
   "version": "3.12.7"
  }
 },
 "nbformat": 4,
 "nbformat_minor": 2
}
